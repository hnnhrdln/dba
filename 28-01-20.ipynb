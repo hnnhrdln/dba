{
 "cells": [
  {
   "cell_type": "markdown",
   "metadata": {},
   "source": [
    "Part 0: The Dataset\n",
    "The weather_train.csv datataset (taken from kaggle -- https://www.kaggle.com/nicholasjhana/energy-\n",
    "consumption-generation-prices-and-weather) contains data related to weather measurements recorded in\n",
    "in Spanish cities once a day according to the following scheme:\n",
    "'dt_iso', 'city_name', 'temp', 'temp_min', 'temp_max', 'pressure', 'humidity', 'wind_speed',\n",
    "'wind_deg', 'rain_1h', 'rain_3h', 'snow_3h', 'clouds_all', 'weather_id', 'weather_main',\n",
    "'weather_description', 'weather_icon'.\n",
    "The dataset consists of attributes with numeric and categorical values.\n",
    "The goal is to predict the overall weather of a day (value of the feature\n",
    "'weather_main') based on the other parameters.\n",
    "Part 1: Analysis (10 points)\n",
    "1. How many instances are contained in the dataset? _______ The dataset is complete (i.e. for every\n",
    "instances, all attribute values are always correctly specified - there are no \"missing\n",
    "values\")? _______ Is the dataset balanced with respect to the class to be predicted? _________\n",
    "(points 1).\n",
    "2. The detections with pressure and humidity equal to 0 are unreal. How many such detections are there?\n",
    "Delete them from the dataset (point 1).\n",
    "3. Analyze the maximum temperature detected. Evaluate if the distribution of the values assumes a\n",
    "similar to a Gaussian. Then consider the readings that are within the highest\n",
    "5% of the highest temperatures. Are cities evenly represented in that range of detections?\n",
    "What does the overall weather look like on days when the highest temperature is in that range for each\n",
    "city? (points 4)\n",
    "4. Check to see if when it snows the temperature is close to freezing.\n",
    "(NOTE: the dataset reports values in Kelvin) (points 2)\n",
    "5. Compare the average temperature range (temp_max-temp_min) recorded on days when it snows with that on days when it snows.\n",
    "5. Compare the average temperature range (temp_max-temp_min) recorded on days when it snows, with that of days that are within 5% of the highest temperatures (points\n",
    "2)Part 2: Transformation and Prediction (20 points)\n",
    "1. You want to predict the value of 'weather_main' based on the attributes in the dataset.\n",
    "Split the dataset so that 2/3 of the elements are contained in a new dataset \"train\" and\n",
    "1/3 in dataset 'test'.\n",
    "Delete the attributes [\"dt_iso\", \"city_name\", \"weather_description\", \"weather_icon\", \"weather_id\",\n",
    "\"clouds_all\"]\n",
    "Convert the 'weather_main' attribute to numeric appropriately.\n",
    "Train the train with the Decision Tree model and evaluate the obtained accuracy calculated both on the\n",
    "train dataset and the test dataset. Compare the obtained results with the ones obtained with a\n",
    "prediction based on the Logistic Regression model. Make some considerations on the results\n",
    "Make some considerations on the obtained results, taking into account also the confusion matrix analysis. (points 4)\n",
    "2. Compare the accuracy obtained in the previous point with the accuracy that is obtained with\n",
    "a 10 Fold cross validation. (points 1)\n",
    "3. Use the Normalizer function to normalize the values of the dataset and compare if\n",
    "the accuracy obtained with the Decision Tree Classifier improves (steps 3).\n",
    "4. Create a pipeline with PCA transforms (choose 5 attributes) and then Normalizer. Use\n",
    "Decision Tree Classifier as model (point 2) [2 more points if attributes of PCA\n",
    "attributes are added to dataset attributes].\n",
    "5. Use the gridSearchCV function on the pipeline to change the number of attributes\n",
    "selected by the PCA and any parameters of the classifier. Check if the accuracy\n",
    "obtained with the new configuration exceeds the standard one obtained in step 1 (step 4)\n",
    "6. Check the accuracy obtained from the pipeline in step 4 with the weather_test file. I\n",
    "The correct results are in the class.csv file. Check the features in the datasets. (step 2).\n",
    "7. Experiment with a pipeline like the one in step 4 where instead of the classifier a linear regressor is used.\n",
    "a linear regressor. The result should be approximated to the integer for the calculation of\n",
    "accuracy calculation (point 2)."
   ]
  }
 ],
 "metadata": {
  "kernelspec": {
   "display_name": "Python 3",
   "language": "python",
   "name": "python3"
  },
  "language_info": {
   "codemirror_mode": {
    "name": "ipython",
    "version": 3
   },
   "file_extension": ".py",
   "mimetype": "text/x-python",
   "name": "python",
   "nbconvert_exporter": "python",
   "pygments_lexer": "ipython3",
   "version": "3.7.3"
  }
 },
 "nbformat": 4,
 "nbformat_minor": 2
}
