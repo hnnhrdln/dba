{
 "cells": [
  {
   "cell_type": "markdown",
   "metadata": {},
   "source": [
    "Die Datei weather.csv () enthält Wetterdaten, die in einigen australischen Städten gesammelt wurden. Sie wollen\n",
    "vorhersagen, ob es am nächsten Tag regnen wird."
   ]
  },
  {
   "cell_type": "markdown",
   "metadata": {},
   "source": [
    "Teil 1: Analyse (10 Punkte)\n",
    "1. Laden Sie das Dataset mit einem geeigneten Namen für die Spalten und benennen Sie es mit einem\n",
    "Variable mit der Bezeichnung \"dataset\".\n",
    "2. Wie viele Instanzen sind in dem Datensatz enthalten? _______ Ist der Datensatz vollständig (d. h. gibt es keine Nullwerte)?\n",
    "existieren)? _______ Ist der Datensatz in Bezug auf die vorherzusagende Klasse ausgewogen?\n",
    "_______ Ist die Anzahl der Umfragen pro Stadt ausgewogen? _______ (Punkt 2)\n",
    "3. Bitte geben Sie die Häufigkeit der monatlichen Ablesungen pro Stadt an. (3 Punkte)\n",
    "4. Berechnen Sie für jede Stadt und jeden Monat die minimale und maximale Luftfeuchtigkeit. (Punkte 2)\n",
    "5. Erstellen Sie ein neues Attribut \"TemperatureRange\", das den täglichen Temperaturbereich angibt.\n",
    "Stellen Sie die maximale monatliche Reichweite dar. (Punkt 3)\n",
    "\n",
    "\n",
    "Übersetzt mit www.DeepL.com/Translator (kostenlose Version)"
   ]
  },
  {
   "cell_type": "code",
   "execution_count": 1,
   "metadata": {},
   "outputs": [],
   "source": [
    "import pandas as pd"
   ]
  },
  {
   "cell_type": "code",
   "execution_count": 2,
   "metadata": {},
   "outputs": [],
   "source": [
    "dataset = pd.read_csv('./data/weather.csv', sep = \";\")"
   ]
  },
  {
   "cell_type": "code",
   "execution_count": 3,
   "metadata": {},
   "outputs": [
    {
     "data": {
      "text/html": [
       "<div>\n",
       "<style scoped>\n",
       "    .dataframe tbody tr th:only-of-type {\n",
       "        vertical-align: middle;\n",
       "    }\n",
       "\n",
       "    .dataframe tbody tr th {\n",
       "        vertical-align: top;\n",
       "    }\n",
       "\n",
       "    .dataframe thead th {\n",
       "        text-align: right;\n",
       "    }\n",
       "</style>\n",
       "<table border=\"1\" class=\"dataframe\">\n",
       "  <thead>\n",
       "    <tr style=\"text-align: right;\">\n",
       "      <th></th>\n",
       "      <th>Month</th>\n",
       "      <th>Location</th>\n",
       "      <th>MinTemp</th>\n",
       "      <th>MaxTemp</th>\n",
       "      <th>Rainfall</th>\n",
       "      <th>WindGustSpeed</th>\n",
       "      <th>WindSpeed9am</th>\n",
       "      <th>WindSpeed3pm</th>\n",
       "      <th>Humidity9am</th>\n",
       "      <th>Humidity3pm</th>\n",
       "      <th>Pressure9am</th>\n",
       "      <th>Pressure3pm</th>\n",
       "      <th>Cloud3pm</th>\n",
       "      <th>Temp9am</th>\n",
       "      <th>Temp3pm</th>\n",
       "      <th>RainToday</th>\n",
       "      <th>RainTomorrow</th>\n",
       "    </tr>\n",
       "  </thead>\n",
       "  <tbody>\n",
       "    <tr>\n",
       "      <th>0</th>\n",
       "      <td>1</td>\n",
       "      <td>Albury</td>\n",
       "      <td>20.4</td>\n",
       "      <td>37.6</td>\n",
       "      <td>0.0</td>\n",
       "      <td>54</td>\n",
       "      <td>0</td>\n",
       "      <td>7</td>\n",
       "      <td>46</td>\n",
       "      <td>17</td>\n",
       "      <td>1013.4</td>\n",
       "      <td>1009.2</td>\n",
       "      <td>3</td>\n",
       "      <td>26.1</td>\n",
       "      <td>36.7</td>\n",
       "      <td>No</td>\n",
       "      <td>No</td>\n",
       "    </tr>\n",
       "    <tr>\n",
       "      <th>1</th>\n",
       "      <td>1</td>\n",
       "      <td>Albury</td>\n",
       "      <td>20.9</td>\n",
       "      <td>33.6</td>\n",
       "      <td>0.4</td>\n",
       "      <td>50</td>\n",
       "      <td>9</td>\n",
       "      <td>17</td>\n",
       "      <td>54</td>\n",
       "      <td>30</td>\n",
       "      <td>1011.1</td>\n",
       "      <td>1008.4</td>\n",
       "      <td>8</td>\n",
       "      <td>24.8</td>\n",
       "      <td>31.7</td>\n",
       "      <td>No</td>\n",
       "      <td>Yes</td>\n",
       "    </tr>\n",
       "    <tr>\n",
       "      <th>2</th>\n",
       "      <td>1</td>\n",
       "      <td>Albury</td>\n",
       "      <td>18.4</td>\n",
       "      <td>23.1</td>\n",
       "      <td>2.2</td>\n",
       "      <td>48</td>\n",
       "      <td>11</td>\n",
       "      <td>39</td>\n",
       "      <td>62</td>\n",
       "      <td>67</td>\n",
       "      <td>1014.0</td>\n",
       "      <td>1014.8</td>\n",
       "      <td>8</td>\n",
       "      <td>21.8</td>\n",
       "      <td>19.5</td>\n",
       "      <td>Yes</td>\n",
       "      <td>Yes</td>\n",
       "    </tr>\n",
       "    <tr>\n",
       "      <th>3</th>\n",
       "      <td>1</td>\n",
       "      <td>Albury</td>\n",
       "      <td>17.3</td>\n",
       "      <td>23.7</td>\n",
       "      <td>15.6</td>\n",
       "      <td>39</td>\n",
       "      <td>9</td>\n",
       "      <td>17</td>\n",
       "      <td>74</td>\n",
       "      <td>65</td>\n",
       "      <td>1017.9</td>\n",
       "      <td>1016.5</td>\n",
       "      <td>8</td>\n",
       "      <td>19.2</td>\n",
       "      <td>21.6</td>\n",
       "      <td>Yes</td>\n",
       "      <td>Yes</td>\n",
       "    </tr>\n",
       "    <tr>\n",
       "      <th>4</th>\n",
       "      <td>1</td>\n",
       "      <td>Albury</td>\n",
       "      <td>15.5</td>\n",
       "      <td>22.9</td>\n",
       "      <td>6.8</td>\n",
       "      <td>31</td>\n",
       "      <td>6</td>\n",
       "      <td>9</td>\n",
       "      <td>92</td>\n",
       "      <td>63</td>\n",
       "      <td>1016.3</td>\n",
       "      <td>1013.9</td>\n",
       "      <td>8</td>\n",
       "      <td>17.2</td>\n",
       "      <td>22.2</td>\n",
       "      <td>Yes</td>\n",
       "      <td>No</td>\n",
       "    </tr>\n",
       "  </tbody>\n",
       "</table>\n",
       "</div>"
      ],
      "text/plain": [
       "   Month Location  MinTemp  MaxTemp  Rainfall  WindGustSpeed  WindSpeed9am  \\\n",
       "0      1   Albury     20.4     37.6       0.0             54             0   \n",
       "1      1   Albury     20.9     33.6       0.4             50             9   \n",
       "2      1   Albury     18.4     23.1       2.2             48            11   \n",
       "3      1   Albury     17.3     23.7      15.6             39             9   \n",
       "4      1   Albury     15.5     22.9       6.8             31             6   \n",
       "\n",
       "   WindSpeed3pm  Humidity9am  Humidity3pm  Pressure9am  Pressure3pm  Cloud3pm  \\\n",
       "0             7           46           17       1013.4       1009.2         3   \n",
       "1            17           54           30       1011.1       1008.4         8   \n",
       "2            39           62           67       1014.0       1014.8         8   \n",
       "3            17           74           65       1017.9       1016.5         8   \n",
       "4             9           92           63       1016.3       1013.9         8   \n",
       "\n",
       "   Temp9am  Temp3pm RainToday RainTomorrow  \n",
       "0     26.1     36.7        No           No  \n",
       "1     24.8     31.7        No          Yes  \n",
       "2     21.8     19.5       Yes          Yes  \n",
       "3     19.2     21.6       Yes          Yes  \n",
       "4     17.2     22.2       Yes           No  "
      ]
     },
     "execution_count": 3,
     "metadata": {},
     "output_type": "execute_result"
    }
   ],
   "source": [
    "dataset.head()"
   ]
  },
  {
   "cell_type": "code",
   "execution_count": 4,
   "metadata": {},
   "outputs": [
    {
     "data": {
      "text/plain": [
       "(14468, 17)"
      ]
     },
     "execution_count": 4,
     "metadata": {},
     "output_type": "execute_result"
    }
   ],
   "source": [
    "dataset.shape #Wie viele Instanzen sind in dem Datensatz enthalten? _______ "
   ]
  },
  {
   "cell_type": "code",
   "execution_count": 5,
   "metadata": {},
   "outputs": [
    {
     "data": {
      "text/plain": [
       "Month            False\n",
       "Location         False\n",
       "MinTemp          False\n",
       "MaxTemp          False\n",
       "Rainfall         False\n",
       "WindGustSpeed    False\n",
       "WindSpeed9am     False\n",
       "WindSpeed3pm     False\n",
       "Humidity9am      False\n",
       "Humidity3pm      False\n",
       "Pressure9am      False\n",
       "Pressure3pm      False\n",
       "Cloud3pm         False\n",
       "Temp9am          False\n",
       "Temp3pm          False\n",
       "RainToday        False\n",
       "RainTomorrow     False\n",
       "dtype: bool"
      ]
     },
     "execution_count": 5,
     "metadata": {},
     "output_type": "execute_result"
    }
   ],
   "source": [
    "dataset.isna().any() #Ist der Datensatz vollständig (d. h. gibt es keine Nullwerte)?"
   ]
  },
  {
   "cell_type": "code",
   "execution_count": 6,
   "metadata": {},
   "outputs": [
    {
     "data": {
      "text/plain": [
       "RainTomorrow\n",
       "No     11038\n",
       "Yes     3430\n",
       "dtype: int64"
      ]
     },
     "execution_count": 6,
     "metadata": {},
     "output_type": "execute_result"
    }
   ],
   "source": [
    "# A balanced dataset is the one that contains equal or almost equal number of samples from the positive and negative class.\n",
    "dataset.groupby(\"RainTomorrow\").size() # not very balanced"
   ]
  },
  {
   "cell_type": "code",
   "execution_count": 7,
   "metadata": {},
   "outputs": [
    {
     "data": {
      "text/plain": [
       "Location\n",
       "Adelaide            366\n",
       "Albury              366\n",
       "AliceSprings        356\n",
       "BadgerysCreek       343\n",
       "Ballarat            358\n",
       "Bendigo             362\n",
       "Brisbane            355\n",
       "Cairns              295\n",
       "Canberra            355\n",
       "Cobar               260\n",
       "CoffsHarbour        345\n",
       "Dartmoor            364\n",
       "Darwin              364\n",
       "GoldCoast           306\n",
       "Hobart              361\n",
       "Melbourne           245\n",
       "MelbourneAirport    366\n",
       "Mildura             365\n",
       "Moree               312\n",
       "MountGambier        346\n",
       "Nhil                364\n",
       "NorahHead           363\n",
       "NorfolkIsland       326\n",
       "Nuriootpa           358\n",
       "PearceRAAF          354\n",
       "Perth               365\n",
       "PerthAirport        363\n",
       "Portland            360\n",
       "Richmond            360\n",
       "Sale                332\n",
       "Sydney              349\n",
       "SydneyAirport       363\n",
       "Townsville          352\n",
       "Tuggeranong         352\n",
       "Uluru               332\n",
       "WaggaWagga          349\n",
       "Walpole             327\n",
       "Watsonia            348\n",
       "Williamtown         300\n",
       "Witchcliffe         345\n",
       "Wollongong          363\n",
       "Woomera             353\n",
       "dtype: int64"
      ]
     },
     "execution_count": 7,
     "metadata": {},
     "output_type": "execute_result"
    }
   ],
   "source": [
    "dataset.groupby(\"Location\").size() # pretty balanced"
   ]
  },
  {
   "cell_type": "code",
   "execution_count": 8,
   "metadata": {},
   "outputs": [],
   "source": [
    "# 4. Berechnen Sie für jede Stadt und jeden Monat die minimale und maximale Luftfeuchtigkeit. (Punkte 2)\n"
   ]
  },
  {
   "cell_type": "code",
   "execution_count": 9,
   "metadata": {},
   "outputs": [
    {
     "name": "stderr",
     "output_type": "stream",
     "text": [
      "/snap/jupyter/6/lib/python3.7/site-packages/ipykernel_launcher.py:1: FutureWarning: Indexing with multiple keys (implicitly converted to a tuple of keys) will be deprecated, use a list instead.\n",
      "  \"\"\"Entry point for launching an IPython kernel.\n"
     ]
    },
    {
     "data": {
      "text/plain": [
       "Location\n",
       "Adelaide            10\n",
       "Albury              10\n",
       "AliceSprings         3\n",
       "BadgerysCreek       18\n",
       "Ballarat             9\n",
       "Bendigo             10\n",
       "Brisbane            19\n",
       "Cairns              24\n",
       "Canberra            11\n",
       "Cobar                6\n",
       "CoffsHarbour        19\n",
       "Dartmoor             9\n",
       "Darwin              10\n",
       "GoldCoast           29\n",
       "Hobart              16\n",
       "Melbourne           21\n",
       "MelbourneAirport    11\n",
       "Mildura              7\n",
       "Moree               10\n",
       "MountGambier         8\n",
       "Nhil                 8\n",
       "NorahHead           17\n",
       "NorfolkIsland       39\n",
       "Nuriootpa            7\n",
       "PearceRAAF          10\n",
       "Perth                9\n",
       "PerthAirport         6\n",
       "Portland            21\n",
       "Richmond            17\n",
       "Sale                18\n",
       "Sydney              14\n",
       "SydneyAirport        8\n",
       "Townsville          12\n",
       "Tuggeranong         14\n",
       "Uluru                6\n",
       "WaggaWagga           8\n",
       "Walpole             15\n",
       "Watsonia            15\n",
       "Williamtown          7\n",
       "Witchcliffe         16\n",
       "Wollongong          16\n",
       "Woomera              3\n",
       "dtype: int64"
      ]
     },
     "execution_count": 9,
     "metadata": {},
     "output_type": "execute_result"
    }
   ],
   "source": [
    "dataset.groupby(\"Location\")['Humidity9am', 'Humidity3pm'].min().min(axis=1)"
   ]
  },
  {
   "cell_type": "markdown",
   "metadata": {},
   "source": [
    "5. Erstellen Sie ein neues Attribut \"TemperatureRange\", das den täglichen Temperaturbereich angibt. Stellen Sie die maximale monatliche Reichweite dar. (Punkt 3)"
   ]
  },
  {
   "cell_type": "code",
   "execution_count": 10,
   "metadata": {},
   "outputs": [],
   "source": [
    "dataset[\"TemperatureRange\"] = dataset[\"MaxTemp\"] - dataset[\"MinTemp\"]"
   ]
  },
  {
   "cell_type": "code",
   "execution_count": 11,
   "metadata": {},
   "outputs": [
    {
     "data": {
      "text/plain": [
       "29.800000000000004"
      ]
     },
     "execution_count": 11,
     "metadata": {},
     "output_type": "execute_result"
    }
   ],
   "source": [
    "dataset[\"TemperatureRange\"].max()"
   ]
  },
  {
   "cell_type": "markdown",
   "metadata": {},
   "source": [
    "Teil 2: Transformation und Vorhersage (20 Punkte)\n",
    "1. Sie möchten die Wahrscheinlichkeit von Regen am nächsten Tag vorhersagen (RainTomorrow ist die Klasse\n",
    "vorhersagen).\n",
    "Transformieren Sie die Werte der Attribute RainToday und RainTomorrow von No auf 0 bzw. von Yes auf 1.\n",
    "Erstellen Sie einen neuen Datensatz namens reduce mit den Instanzen des Datensatzes, für die ein Wert von\n",
    "Cloud3pm größer als oder gleich 0.\n",
    "Teilen Sie den Datensatz so auf, dass 4/5 der Elemente in einem neuen \"train\"-Datensatz sind und\n",
    "1/5 in einem \"Test\"-Datensatz.\n",
    "Bewerten Sie die mit dem Klassifikator der logistischen Regression und dem Entscheidungsbaum erzielte Genauigkeit.\n",
    "Der erhaltene Genauigkeitswert ist gleich _____________. Zeigt die Konfusionsmatrix irgendwelche\n",
    "Eigentümlichkeiten? (4 Punkte)\n",
    "2. Welcher Genauigkeitswert wird mit einer 5-fachen Kreuzvalidierung und dem Klassifikator auf der Grundlage von\n",
    "Entscheidungsbaum ________________ und der auf logistischer Regression basierende Klassifikator ________________\n",
    "Wird der repräsentativste Genauigkeitswert mit dieser Technik oder mit der vorherigen erzielt?\n",
    "oder mit dem zuvor implementierten? (Punkte 2)\n",
    "3. Einführung eines Attributs, das die beiden Temperaturwerte für jede Umfrage ersetzt\n",
    "3. ein Attribut einführen, das die beiden Temperaturwerte \"MinTemp, MaxTemp\" für jede Messung durch den Durchschnittswert der Aufzeichnungen ersetzt. Machen Sie dasselbe mit Wind\n",
    "(WindSpeed9am, WindSpeed3pm). Welchen Genauigkeitswert erhalten Sie? ________________\n",
    "(Punkt 4)\n",
    "4. Beginnen Sie mit dem ursprünglichen Datensatz und betrachten Sie zwei neue Datensätze, die Sie durch Entfernen von Elementen mit Cloud3pm kleiner als 0 aus dem ursprünglichen Datensatz erhalten.\n",
    "Datensatz die Elemente mit Cloud3pm kleiner als 0. Der Datensatz mit den negativen Werten wird als\n",
    "genannt cloudP, die andere cloudT.\n",
    "Trainieren Sie einen Regressor auf cloudT, um Cloud3pm-Werte vorherzusagen. Verwenden Sie das Modell zum Ersetzen\n",
    "der vorhergesagte Wert für Cloud3pm in cloudP. (Schritt 4)\n",
    "5. Betrachten Sie den Datensatz, der sich aus der Verkettung von cloudP und cloudT zu einem einzigen Datensatz ergibt, und\n",
    "die mit einer 10-fachen Kreuzvalidierung und dem auf dem Entscheidungsbaum basierenden Klassifikator sowie dem auf der Logistik basierenden Klassifikator erzielte Genauigkeit vergleichen.\n",
    "Entscheidungsbaum und logistische Regression mit dem in Schritt 3 erhaltenen Klassifikator. (Punkt 3)\n",
    "6. Verwenden Sie einen Regressionsalgorithmus, der auf den Datensatz aus Schritt 1 angewendet wird, um die\n",
    "Vorhersage. Runden Sie die vorhergesagten Werte auf eine ganze Zahl. Vergleichen Sie die erzielten Ergebnisse mit denen\n",
    "Vergleichen Sie die erzielten Ergebnisse mit denen aus den vorherigen Schritten (Schritt 3).\n",
    "\n",
    "Übersetzt mit www.DeepL.com/Translator (kostenlose Version)"
   ]
  },
  {
   "cell_type": "markdown",
   "metadata": {},
   "source": [
    "Teil 2: Transformation und Vorhersage (20 Punkte)\n",
    "\n",
    "Sie möchten die Wahrscheinlichkeit von Regen am nächsten Tag vorhersagen (RainTomorrow ist die Klasse vorhersagen). Transformieren Sie die Werte der Attribute RainToday und RainTomorrow von No auf 0 bzw. von Yes auf 1. Erstellen Sie einen neuen Datensatz namens reduce mit den Instanzen des Datensatzes, für die ein Wert von Cloud3pm größer als oder gleich 0. Teilen Sie den Datensatz so auf, dass 4/5 der Elemente in einem neuen \"train\"-Datensatz sind und 1/5 in einem \"Test\"-Datensatz. Bewerten Sie die mit dem Klassifikator der logistischen Regression und dem Entscheidungsbaum erzielte Genauigkeit. Der erhaltene Genauigkeitswert ist gleich _. Zeigt die Konfusionsmatrix irgendwelche Eigentümlichkeiten? (4 Punkte)"
   ]
  },
  {
   "cell_type": "code",
   "execution_count": 12,
   "metadata": {},
   "outputs": [],
   "source": [
    "bool_yes = {'Yes':1, \"No\":0}\n",
    "dataset[\"RainTomorrow\"]= dataset[\"RainTomorrow\"].map(bool_yes)\n",
    "dataset[\"RainToday\"]= dataset[\"RainToday\"].map(bool_yes)"
   ]
  },
  {
   "cell_type": "code",
   "execution_count": 14,
   "metadata": {},
   "outputs": [],
   "source": [
    "location = pd.get_dummies(dataset['Location'])\n",
    "dataset.drop(['Location'],axis=1,inplace=True)\n",
    "dataset = pd.concat([dataset, location], axis=1)"
   ]
  },
  {
   "cell_type": "code",
   "execution_count": 15,
   "metadata": {},
   "outputs": [],
   "source": [
    "reduce = dataset[dataset['Cloud3pm'] >= 0]"
   ]
  },
  {
   "cell_type": "code",
   "execution_count": 16,
   "metadata": {},
   "outputs": [],
   "source": [
    "y = reduce['RainTomorrow']\n",
    "X = reduce.loc[:, reduce.columns != 'RainTomorrow']"
   ]
  },
  {
   "cell_type": "code",
   "execution_count": 28,
   "metadata": {},
   "outputs": [],
   "source": [
    "from sklearn.model_selection import train_test_split\n",
    "X_train, X_test, y_train, y_test = train_test_split(X, y, test_size=0.2, random_state=1)"
   ]
  },
  {
   "cell_type": "code",
   "execution_count": 40,
   "metadata": {},
   "outputs": [
    {
     "name": "stderr",
     "output_type": "stream",
     "text": [
      "/home/hannah/snap/jupyter/common/lib/python3.7/site-packages/sklearn/linear_model/_logistic.py:765: ConvergenceWarning: lbfgs failed to converge (status=1):\n",
      "STOP: TOTAL NO. of ITERATIONS REACHED LIMIT.\n",
      "\n",
      "Increase the number of iterations (max_iter) or scale the data as shown in:\n",
      "    https://scikit-learn.org/stable/modules/preprocessing.html\n",
      "Please also refer to the documentation for alternative solver options:\n",
      "    https://scikit-learn.org/stable/modules/linear_model.html#logistic-regression\n",
      "  extra_warning_msg=_LOGISTIC_SOLVER_CONVERGENCE_MSG)\n"
     ]
    },
    {
     "data": {
      "text/plain": [
       "0.8028759736369083"
      ]
     },
     "execution_count": 40,
     "metadata": {},
     "output_type": "execute_result"
    }
   ],
   "source": [
    "from sklearn.linear_model import LogisticRegression\n",
    "from sklearn.metrics import confusion_matrix\n",
    "\n",
    "logmodel = LogisticRegression()\n",
    "logmodel.fit(X_train,y_train)\n",
    "predictions = logmodel.predict(X_test)\n",
    "accuracy_score(y_test, predictions)"
   ]
  },
  {
   "cell_type": "code",
   "execution_count": 41,
   "metadata": {},
   "outputs": [
    {
     "data": {
      "text/plain": [
       "array([[1099,   93],\n",
       "       [ 236,  241]])"
      ]
     },
     "execution_count": 41,
     "metadata": {},
     "output_type": "execute_result"
    }
   ],
   "source": [
    "confusion_matrix(y_test, predictions)"
   ]
  },
  {
   "cell_type": "code",
   "execution_count": 33,
   "metadata": {},
   "outputs": [
    {
     "data": {
      "text/plain": [
       "array([[1099,   93],\n",
       "       [ 236,  241]])"
      ]
     },
     "execution_count": 33,
     "metadata": {},
     "output_type": "execute_result"
    }
   ],
   "source": [
    "from sklearn.tree import DecisionTreeClassifier # Import Decision Tree Classifier\n",
    "clf = DecisionTreeClassifier()\n",
    "clf = clf.fit(X_train,y_train)\n",
    "y_pred = clf.predict(X_test)\n",
    "accuracy_score(y_test, predictions)\n",
    "confusion_matrix(y_test, predictions)"
   ]
  },
  {
   "cell_type": "markdown",
   "metadata": {},
   "source": [
    "Welcher Genauigkeitswert wird mit einer 5-fachen Kreuzvalidierung und dem Klassifikator auf der Grundlage von Entscheidungsbaum ____ und der auf logistischer Regression basierende Klassifikator ____ Wird der repräsentativste Genauigkeitswert mit dieser Technik oder mit der vorherigen erzielt? oder mit dem zuvor implementierten? (Punkte 2)"
   ]
  },
  {
   "cell_type": "code",
   "execution_count": 37,
   "metadata": {},
   "outputs": [
    {
     "name": "stderr",
     "output_type": "stream",
     "text": [
      "/home/hannah/snap/jupyter/common/lib/python3.7/site-packages/sklearn/linear_model/_logistic.py:765: ConvergenceWarning: lbfgs failed to converge (status=1):\n",
      "STOP: TOTAL NO. of ITERATIONS REACHED LIMIT.\n",
      "\n",
      "Increase the number of iterations (max_iter) or scale the data as shown in:\n",
      "    https://scikit-learn.org/stable/modules/preprocessing.html\n",
      "Please also refer to the documentation for alternative solver options:\n",
      "    https://scikit-learn.org/stable/modules/linear_model.html#logistic-regression\n",
      "  extra_warning_msg=_LOGISTIC_SOLVER_CONVERGENCE_MSG)\n",
      "/home/hannah/snap/jupyter/common/lib/python3.7/site-packages/sklearn/linear_model/_logistic.py:765: ConvergenceWarning: lbfgs failed to converge (status=1):\n",
      "STOP: TOTAL NO. of ITERATIONS REACHED LIMIT.\n",
      "\n",
      "Increase the number of iterations (max_iter) or scale the data as shown in:\n",
      "    https://scikit-learn.org/stable/modules/preprocessing.html\n",
      "Please also refer to the documentation for alternative solver options:\n",
      "    https://scikit-learn.org/stable/modules/linear_model.html#logistic-regression\n",
      "  extra_warning_msg=_LOGISTIC_SOLVER_CONVERGENCE_MSG)\n",
      "/home/hannah/snap/jupyter/common/lib/python3.7/site-packages/sklearn/linear_model/_logistic.py:765: ConvergenceWarning: lbfgs failed to converge (status=1):\n",
      "STOP: TOTAL NO. of ITERATIONS REACHED LIMIT.\n",
      "\n",
      "Increase the number of iterations (max_iter) or scale the data as shown in:\n",
      "    https://scikit-learn.org/stable/modules/preprocessing.html\n",
      "Please also refer to the documentation for alternative solver options:\n",
      "    https://scikit-learn.org/stable/modules/linear_model.html#logistic-regression\n",
      "  extra_warning_msg=_LOGISTIC_SOLVER_CONVERGENCE_MSG)\n",
      "/home/hannah/snap/jupyter/common/lib/python3.7/site-packages/sklearn/linear_model/_logistic.py:765: ConvergenceWarning: lbfgs failed to converge (status=1):\n",
      "STOP: TOTAL NO. of ITERATIONS REACHED LIMIT.\n",
      "\n",
      "Increase the number of iterations (max_iter) or scale the data as shown in:\n",
      "    https://scikit-learn.org/stable/modules/preprocessing.html\n",
      "Please also refer to the documentation for alternative solver options:\n",
      "    https://scikit-learn.org/stable/modules/linear_model.html#logistic-regression\n",
      "  extra_warning_msg=_LOGISTIC_SOLVER_CONVERGENCE_MSG)\n",
      "/home/hannah/snap/jupyter/common/lib/python3.7/site-packages/sklearn/linear_model/_logistic.py:765: ConvergenceWarning: lbfgs failed to converge (status=1):\n",
      "STOP: TOTAL NO. of ITERATIONS REACHED LIMIT.\n",
      "\n",
      "Increase the number of iterations (max_iter) or scale the data as shown in:\n",
      "    https://scikit-learn.org/stable/modules/preprocessing.html\n",
      "Please also refer to the documentation for alternative solver options:\n",
      "    https://scikit-learn.org/stable/modules/linear_model.html#logistic-regression\n",
      "  extra_warning_msg=_LOGISTIC_SOLVER_CONVERGENCE_MSG)\n"
     ]
    }
   ],
   "source": [
    "from sklearn.model_selection import cross_val_score\n",
    "cv_results_lr = cross_val_score(LogisticRegression(), X, y, cv=5, scoring=\"accuracy\") # logistic regression\n",
    "cv_results_dt = cross_val_score(DecisionTreeClassifier(), X, y, cv=5, scoring=\"accuracy\") # decision tree"
   ]
  },
  {
   "cell_type": "code",
   "execution_count": 43,
   "metadata": {},
   "outputs": [
    {
     "data": {
      "text/plain": [
       "0.805127856971463"
      ]
     },
     "execution_count": 43,
     "metadata": {},
     "output_type": "execute_result"
    }
   ],
   "source": [
    "cv_results_lr.mean() # in mean got slightly better, different between folds"
   ]
  },
  {
   "cell_type": "code",
   "execution_count": 45,
   "metadata": {},
   "outputs": [
    {
     "data": {
      "text/plain": [
       "array([0.74775315, 0.71659676, 0.63331336, 0.67405632, 0.74220624])"
      ]
     },
     "execution_count": 45,
     "metadata": {},
     "output_type": "execute_result"
    }
   ],
   "source": [
    "cv_results_dt # here it got worse"
   ]
  },
  {
   "cell_type": "markdown",
   "metadata": {},
   "source": [
    "3. Einführung eines Attributs, das die beiden Temperaturwerte für jede Umfrage ersetzt\n",
    "3. ein Attribut einführen, das die beiden Temperaturwerte \"MinTemp, MaxTemp\" für jede Messung durch den Durchschnittswert der Aufzeichnungen ersetzt. Machen Sie dasselbe mit Wind\n",
    "(WindSpeed9am, WindSpeed3pm). Welchen Genauigkeitswert erhalten Sie? ________________\n",
    "(Punkt 4)"
   ]
  },
  {
   "cell_type": "code",
   "execution_count": 54,
   "metadata": {},
   "outputs": [
    {
     "name": "stderr",
     "output_type": "stream",
     "text": [
      "/snap/jupyter/6/lib/python3.7/site-packages/ipykernel_launcher.py:1: SettingWithCopyWarning: \n",
      "A value is trying to be set on a copy of a slice from a DataFrame.\n",
      "Try using .loc[row_indexer,col_indexer] = value instead\n",
      "\n",
      "See the caveats in the documentation: https://pandas.pydata.org/pandas-docs/stable/user_guide/indexing.html#returning-a-view-versus-a-copy\n",
      "  \"\"\"Entry point for launching an IPython kernel.\n",
      "/snap/jupyter/6/lib/python3.7/site-packages/ipykernel_launcher.py:2: SettingWithCopyWarning: \n",
      "A value is trying to be set on a copy of a slice from a DataFrame.\n",
      "Try using .loc[row_indexer,col_indexer] = value instead\n",
      "\n",
      "See the caveats in the documentation: https://pandas.pydata.org/pandas-docs/stable/user_guide/indexing.html#returning-a-view-versus-a-copy\n",
      "  \n",
      "/home/hannah/snap/jupyter/common/lib/python3.7/site-packages/pandas/core/frame.py:4315: SettingWithCopyWarning: \n",
      "A value is trying to be set on a copy of a slice from a DataFrame\n",
      "\n",
      "See the caveats in the documentation: https://pandas.pydata.org/pandas-docs/stable/user_guide/indexing.html#returning-a-view-versus-a-copy\n",
      "  errors=errors,\n"
     ]
    }
   ],
   "source": [
    "reduce['AvgTemp'] = (reduce['MinTemp'] + reduce['MaxTemp']) / 2\n",
    "reduce['AvgWindSpeed'] = (reduce['WindSpeed9am'] + reduce['WindSpeed3pm']) / 2\n",
    "reduce.drop(['MinTemp', 'MaxTemp','WindSpeed9am','WindSpeed3pm'],axis=1,inplace=True)"
   ]
  },
  {
   "cell_type": "code",
   "execution_count": 66,
   "metadata": {},
   "outputs": [
    {
     "data": {
      "text/html": [
       "<div>\n",
       "<style scoped>\n",
       "    .dataframe tbody tr th:only-of-type {\n",
       "        vertical-align: middle;\n",
       "    }\n",
       "\n",
       "    .dataframe tbody tr th {\n",
       "        vertical-align: top;\n",
       "    }\n",
       "\n",
       "    .dataframe thead th {\n",
       "        text-align: right;\n",
       "    }\n",
       "</style>\n",
       "<table border=\"1\" class=\"dataframe\">\n",
       "  <thead>\n",
       "    <tr style=\"text-align: right;\">\n",
       "      <th></th>\n",
       "      <th>Month</th>\n",
       "      <th>Rainfall</th>\n",
       "      <th>WindGustSpeed</th>\n",
       "      <th>Humidity9am</th>\n",
       "      <th>Humidity3pm</th>\n",
       "      <th>Pressure9am</th>\n",
       "      <th>Pressure3pm</th>\n",
       "      <th>Cloud3pm</th>\n",
       "      <th>Temp9am</th>\n",
       "      <th>Temp3pm</th>\n",
       "      <th>...</th>\n",
       "      <th>Uluru</th>\n",
       "      <th>WaggaWagga</th>\n",
       "      <th>Walpole</th>\n",
       "      <th>Watsonia</th>\n",
       "      <th>Williamtown</th>\n",
       "      <th>Witchcliffe</th>\n",
       "      <th>Wollongong</th>\n",
       "      <th>Woomera</th>\n",
       "      <th>AvgTemp</th>\n",
       "      <th>AvgWindSpeed</th>\n",
       "    </tr>\n",
       "  </thead>\n",
       "  <tbody>\n",
       "    <tr>\n",
       "      <th>5729</th>\n",
       "      <td>9</td>\n",
       "      <td>0.0</td>\n",
       "      <td>43</td>\n",
       "      <td>68</td>\n",
       "      <td>51</td>\n",
       "      <td>1013.7</td>\n",
       "      <td>1010.2</td>\n",
       "      <td>8</td>\n",
       "      <td>11.7</td>\n",
       "      <td>16.2</td>\n",
       "      <td>...</td>\n",
       "      <td>0</td>\n",
       "      <td>0</td>\n",
       "      <td>0</td>\n",
       "      <td>0</td>\n",
       "      <td>0</td>\n",
       "      <td>0</td>\n",
       "      <td>0</td>\n",
       "      <td>0</td>\n",
       "      <td>11.35</td>\n",
       "      <td>15.5</td>\n",
       "    </tr>\n",
       "    <tr>\n",
       "      <th>11751</th>\n",
       "      <td>4</td>\n",
       "      <td>17.6</td>\n",
       "      <td>50</td>\n",
       "      <td>92</td>\n",
       "      <td>62</td>\n",
       "      <td>1015.1</td>\n",
       "      <td>1014.8</td>\n",
       "      <td>1</td>\n",
       "      <td>18.0</td>\n",
       "      <td>23.9</td>\n",
       "      <td>...</td>\n",
       "      <td>0</td>\n",
       "      <td>0</td>\n",
       "      <td>0</td>\n",
       "      <td>0</td>\n",
       "      <td>0</td>\n",
       "      <td>0</td>\n",
       "      <td>0</td>\n",
       "      <td>0</td>\n",
       "      <td>19.95</td>\n",
       "      <td>10.5</td>\n",
       "    </tr>\n",
       "    <tr>\n",
       "      <th>1193</th>\n",
       "      <td>8</td>\n",
       "      <td>9.8</td>\n",
       "      <td>39</td>\n",
       "      <td>74</td>\n",
       "      <td>82</td>\n",
       "      <td>1012.6</td>\n",
       "      <td>1011.8</td>\n",
       "      <td>8</td>\n",
       "      <td>19.4</td>\n",
       "      <td>19.1</td>\n",
       "      <td>...</td>\n",
       "      <td>0</td>\n",
       "      <td>0</td>\n",
       "      <td>0</td>\n",
       "      <td>0</td>\n",
       "      <td>0</td>\n",
       "      <td>0</td>\n",
       "      <td>0</td>\n",
       "      <td>0</td>\n",
       "      <td>18.75</td>\n",
       "      <td>25.0</td>\n",
       "    </tr>\n",
       "    <tr>\n",
       "      <th>14195</th>\n",
       "      <td>3</td>\n",
       "      <td>0.0</td>\n",
       "      <td>31</td>\n",
       "      <td>53</td>\n",
       "      <td>32</td>\n",
       "      <td>1012.3</td>\n",
       "      <td>1008.2</td>\n",
       "      <td>5</td>\n",
       "      <td>24.1</td>\n",
       "      <td>32.4</td>\n",
       "      <td>...</td>\n",
       "      <td>1</td>\n",
       "      <td>0</td>\n",
       "      <td>0</td>\n",
       "      <td>0</td>\n",
       "      <td>0</td>\n",
       "      <td>0</td>\n",
       "      <td>0</td>\n",
       "      <td>0</td>\n",
       "      <td>27.75</td>\n",
       "      <td>20.5</td>\n",
       "    </tr>\n",
       "    <tr>\n",
       "      <th>7070</th>\n",
       "      <td>10</td>\n",
       "      <td>0.0</td>\n",
       "      <td>41</td>\n",
       "      <td>33</td>\n",
       "      <td>12</td>\n",
       "      <td>1017.1</td>\n",
       "      <td>1010.7</td>\n",
       "      <td>0</td>\n",
       "      <td>18.8</td>\n",
       "      <td>28.8</td>\n",
       "      <td>...</td>\n",
       "      <td>0</td>\n",
       "      <td>0</td>\n",
       "      <td>0</td>\n",
       "      <td>0</td>\n",
       "      <td>0</td>\n",
       "      <td>0</td>\n",
       "      <td>0</td>\n",
       "      <td>0</td>\n",
       "      <td>18.85</td>\n",
       "      <td>15.0</td>\n",
       "    </tr>\n",
       "    <tr>\n",
       "      <th>...</th>\n",
       "      <td>...</td>\n",
       "      <td>...</td>\n",
       "      <td>...</td>\n",
       "      <td>...</td>\n",
       "      <td>...</td>\n",
       "      <td>...</td>\n",
       "      <td>...</td>\n",
       "      <td>...</td>\n",
       "      <td>...</td>\n",
       "      <td>...</td>\n",
       "      <td>...</td>\n",
       "      <td>...</td>\n",
       "      <td>...</td>\n",
       "      <td>...</td>\n",
       "      <td>...</td>\n",
       "      <td>...</td>\n",
       "      <td>...</td>\n",
       "      <td>...</td>\n",
       "      <td>...</td>\n",
       "      <td>...</td>\n",
       "      <td>...</td>\n",
       "    </tr>\n",
       "    <tr>\n",
       "      <th>5261</th>\n",
       "      <td>6</td>\n",
       "      <td>8.8</td>\n",
       "      <td>41</td>\n",
       "      <td>100</td>\n",
       "      <td>98</td>\n",
       "      <td>1001.7</td>\n",
       "      <td>1005.4</td>\n",
       "      <td>8</td>\n",
       "      <td>8.6</td>\n",
       "      <td>11.5</td>\n",
       "      <td>...</td>\n",
       "      <td>0</td>\n",
       "      <td>0</td>\n",
       "      <td>0</td>\n",
       "      <td>0</td>\n",
       "      <td>0</td>\n",
       "      <td>0</td>\n",
       "      <td>0</td>\n",
       "      <td>0</td>\n",
       "      <td>10.05</td>\n",
       "      <td>23.0</td>\n",
       "    </tr>\n",
       "    <tr>\n",
       "      <th>13688</th>\n",
       "      <td>10</td>\n",
       "      <td>0.0</td>\n",
       "      <td>67</td>\n",
       "      <td>61</td>\n",
       "      <td>47</td>\n",
       "      <td>1006.8</td>\n",
       "      <td>1003.7</td>\n",
       "      <td>8</td>\n",
       "      <td>23.8</td>\n",
       "      <td>28.8</td>\n",
       "      <td>...</td>\n",
       "      <td>0</td>\n",
       "      <td>0</td>\n",
       "      <td>0</td>\n",
       "      <td>0</td>\n",
       "      <td>0</td>\n",
       "      <td>0</td>\n",
       "      <td>0</td>\n",
       "      <td>0</td>\n",
       "      <td>25.75</td>\n",
       "      <td>32.5</td>\n",
       "    </tr>\n",
       "    <tr>\n",
       "      <th>2140</th>\n",
       "      <td>6</td>\n",
       "      <td>29.8</td>\n",
       "      <td>54</td>\n",
       "      <td>97</td>\n",
       "      <td>89</td>\n",
       "      <td>1013.7</td>\n",
       "      <td>1010.8</td>\n",
       "      <td>8</td>\n",
       "      <td>19.9</td>\n",
       "      <td>20.4</td>\n",
       "      <td>...</td>\n",
       "      <td>0</td>\n",
       "      <td>0</td>\n",
       "      <td>0</td>\n",
       "      <td>0</td>\n",
       "      <td>0</td>\n",
       "      <td>0</td>\n",
       "      <td>0</td>\n",
       "      <td>0</td>\n",
       "      <td>19.95</td>\n",
       "      <td>14.0</td>\n",
       "    </tr>\n",
       "    <tr>\n",
       "      <th>8704</th>\n",
       "      <td>5</td>\n",
       "      <td>0.0</td>\n",
       "      <td>26</td>\n",
       "      <td>59</td>\n",
       "      <td>57</td>\n",
       "      <td>1025.7</td>\n",
       "      <td>1022.1</td>\n",
       "      <td>7</td>\n",
       "      <td>21.3</td>\n",
       "      <td>24.4</td>\n",
       "      <td>...</td>\n",
       "      <td>0</td>\n",
       "      <td>0</td>\n",
       "      <td>0</td>\n",
       "      <td>0</td>\n",
       "      <td>0</td>\n",
       "      <td>0</td>\n",
       "      <td>0</td>\n",
       "      <td>0</td>\n",
       "      <td>20.75</td>\n",
       "      <td>8.5</td>\n",
       "    </tr>\n",
       "    <tr>\n",
       "      <th>726</th>\n",
       "      <td>1</td>\n",
       "      <td>8.0</td>\n",
       "      <td>33</td>\n",
       "      <td>67</td>\n",
       "      <td>33</td>\n",
       "      <td>1010.6</td>\n",
       "      <td>1009.0</td>\n",
       "      <td>4</td>\n",
       "      <td>27.2</td>\n",
       "      <td>34.8</td>\n",
       "      <td>...</td>\n",
       "      <td>0</td>\n",
       "      <td>0</td>\n",
       "      <td>0</td>\n",
       "      <td>0</td>\n",
       "      <td>0</td>\n",
       "      <td>0</td>\n",
       "      <td>0</td>\n",
       "      <td>0</td>\n",
       "      <td>29.60</td>\n",
       "      <td>13.0</td>\n",
       "    </tr>\n",
       "  </tbody>\n",
       "</table>\n",
       "<p>6675 rows × 56 columns</p>\n",
       "</div>"
      ],
      "text/plain": [
       "       Month  Rainfall  WindGustSpeed  Humidity9am  Humidity3pm  Pressure9am  \\\n",
       "5729       9       0.0             43           68           51       1013.7   \n",
       "11751      4      17.6             50           92           62       1015.1   \n",
       "1193       8       9.8             39           74           82       1012.6   \n",
       "14195      3       0.0             31           53           32       1012.3   \n",
       "7070      10       0.0             41           33           12       1017.1   \n",
       "...      ...       ...            ...          ...          ...          ...   \n",
       "5261       6       8.8             41          100           98       1001.7   \n",
       "13688     10       0.0             67           61           47       1006.8   \n",
       "2140       6      29.8             54           97           89       1013.7   \n",
       "8704       5       0.0             26           59           57       1025.7   \n",
       "726        1       8.0             33           67           33       1010.6   \n",
       "\n",
       "       Pressure3pm  Cloud3pm  Temp9am  Temp3pm  ...  Uluru  WaggaWagga  \\\n",
       "5729        1010.2         8     11.7     16.2  ...      0           0   \n",
       "11751       1014.8         1     18.0     23.9  ...      0           0   \n",
       "1193        1011.8         8     19.4     19.1  ...      0           0   \n",
       "14195       1008.2         5     24.1     32.4  ...      1           0   \n",
       "7070        1010.7         0     18.8     28.8  ...      0           0   \n",
       "...            ...       ...      ...      ...  ...    ...         ...   \n",
       "5261        1005.4         8      8.6     11.5  ...      0           0   \n",
       "13688       1003.7         8     23.8     28.8  ...      0           0   \n",
       "2140        1010.8         8     19.9     20.4  ...      0           0   \n",
       "8704        1022.1         7     21.3     24.4  ...      0           0   \n",
       "726         1009.0         4     27.2     34.8  ...      0           0   \n",
       "\n",
       "       Walpole  Watsonia  Williamtown  Witchcliffe  Wollongong  Woomera  \\\n",
       "5729         0         0            0            0           0        0   \n",
       "11751        0         0            0            0           0        0   \n",
       "1193         0         0            0            0           0        0   \n",
       "14195        0         0            0            0           0        0   \n",
       "7070         0         0            0            0           0        0   \n",
       "...        ...       ...          ...          ...         ...      ...   \n",
       "5261         0         0            0            0           0        0   \n",
       "13688        0         0            0            0           0        0   \n",
       "2140         0         0            0            0           0        0   \n",
       "8704         0         0            0            0           0        0   \n",
       "726          0         0            0            0           0        0   \n",
       "\n",
       "       AvgTemp  AvgWindSpeed  \n",
       "5729     11.35          15.5  \n",
       "11751    19.95          10.5  \n",
       "1193     18.75          25.0  \n",
       "14195    27.75          20.5  \n",
       "7070     18.85          15.0  \n",
       "...        ...           ...  \n",
       "5261     10.05          23.0  \n",
       "13688    25.75          32.5  \n",
       "2140     19.95          14.0  \n",
       "8704     20.75           8.5  \n",
       "726      29.60          13.0  \n",
       "\n",
       "[6675 rows x 56 columns]"
      ]
     },
     "execution_count": 66,
     "metadata": {},
     "output_type": "execute_result"
    }
   ],
   "source": [
    "X_train"
   ]
  },
  {
   "cell_type": "code",
   "execution_count": 58,
   "metadata": {},
   "outputs": [],
   "source": [
    "y = reduce['RainTomorrow']\n",
    "X = reduce.loc[:, reduce.columns != 'RainTomorrow']"
   ]
  },
  {
   "cell_type": "code",
   "execution_count": 67,
   "metadata": {},
   "outputs": [],
   "source": [
    "from sklearn.model_selection import train_test_split\n",
    "X_train, X_test, y_train, y_test = train_test_split(X, y, test_size=0.2, random_state=1)"
   ]
  },
  {
   "cell_type": "code",
   "execution_count": 68,
   "metadata": {},
   "outputs": [
    {
     "name": "stderr",
     "output_type": "stream",
     "text": [
      "/home/hannah/snap/jupyter/common/lib/python3.7/site-packages/sklearn/linear_model/_logistic.py:765: ConvergenceWarning: lbfgs failed to converge (status=1):\n",
      "STOP: TOTAL NO. of ITERATIONS REACHED LIMIT.\n",
      "\n",
      "Increase the number of iterations (max_iter) or scale the data as shown in:\n",
      "    https://scikit-learn.org/stable/modules/preprocessing.html\n",
      "Please also refer to the documentation for alternative solver options:\n",
      "    https://scikit-learn.org/stable/modules/linear_model.html#logistic-regression\n",
      "  extra_warning_msg=_LOGISTIC_SOLVER_CONVERGENCE_MSG)\n"
     ]
    },
    {
     "data": {
      "text/plain": [
       "0.8028759736369083"
      ]
     },
     "execution_count": 68,
     "metadata": {},
     "output_type": "execute_result"
    }
   ],
   "source": [
    "logmodel = LogisticRegression()\n",
    "logmodel.fit(X_train,y_train)\n",
    "predictions = logmodel.predict(X_test)\n",
    "accuracy_score(y_test, predictions)"
   ]
  },
  {
   "cell_type": "code",
   "execution_count": null,
   "metadata": {},
   "outputs": [],
   "source": []
  }
 ],
 "metadata": {
  "kernelspec": {
   "display_name": "Python 3",
   "language": "python",
   "name": "python3"
  },
  "language_info": {
   "codemirror_mode": {
    "name": "ipython",
    "version": 3
   },
   "file_extension": ".py",
   "mimetype": "text/x-python",
   "name": "python",
   "nbconvert_exporter": "python",
   "pygments_lexer": "ipython3",
   "version": "3.7.3"
  }
 },
 "nbformat": 4,
 "nbformat_minor": 2
}
