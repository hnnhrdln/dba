{
 "cells": [
  {
   "cell_type": "markdown",
   "metadata": {},
   "source": [
    "Part 0: The Dataset\n",
    "The datataset contains data describing the employees of a company according to the following\n",
    "features (the order of the features in the dataset may differ):\n",
    "1. Employee satisfaction level\n",
    "2. Last evaluation\n",
    "3. Number of projects\n",
    "4. Average monthly hours\n",
    "5. Time spent at the company\n",
    "6. Whether they have had a work accident\n",
    "7. Whether they have had a promotion in the last 5 years\n",
    "8. Sales\n",
    "9. Salary\n",
    "10. Whether the employee has left\n",
    "\n",
    "The ultimate goal of the dataset is to predict whether or not an employee will leave the company.\n",
    "Notes :\n",
    "Duration of the test: 2 hours.\n",
    "Create an exam folder on your desktop and download the csv file that you can find at the link\n",
    "http://bit.ly/BDA10012017\n",
    "Go to that folder with the command line and initialize ipython with the\n",
    "command \"ipython notebook\".\n",
    "Frequently save the created notebook file with your name and surname.\n",
    "At the end of the test send to francesco.guerra@unimore.it the html file of the test\n",
    "(file / download as / HTML).Part 1: Analysis (10 points)\n",
    "1. Load the dataset and name it with a variable called \"dataset\"\n",
    "2. How many instances are contained in the dataset? _______ The dataset is complete (i.e. for\n",
    "(i.e. for each instance all attribute values are always specified - there are no missing values)?\n",
    "values\")? _______ Is the dataset balanced with respect to the class to be predicted?\n",
    "_________ Looking directly at the data, how did having had a promotion\n",
    "in the last 5 years affected the employee's choice to leave the company?\n",
    "\n",
    "3. Looking at the mean and median shows that employees working\n",
    "If you look at the mean and median, do you see that employees working in the firm are generally satisfied? \n",
    "If you represent a histogram of employee satisfaction (use the parameter\n",
    "bins=100 in the function that makes the histogram) you will see that there is an initial block\n",
    "of employees not satisfied at all. Calculate the value of dissatisfaction of this block\n",
    "of employees ___________\n",
    "What do these employees have in common (other than a low level of satisfaction)?\n",
    "\n",
    "4. Represent in a graph the salary of the dissatisfied employees described in the previous point\n",
    "previous point.\n",
    "5. Analyze the industries (attribute \"sales\") in which the dissatisfied employees are placed.\n",
    "Is there an industry that is a greater source of discomfort?\n",
    "Part 2: Transformation and Prediction (20 points)\n",
    "1. Scikit-learn uses a numpy array to make its predictions. The elements\n",
    "of the numpy array must be of the same numeric data type. It is therefore necessary to\n",
    "transform the dataset to make it usable with scikit.\n",
    "Create a new dataset from the previous one and call it reduced in we consider\n",
    "only the numeric features.\n",
    "2. In the original dataset, transform the values of non-numeric fields to numeric,\n",
    "using a transformation function.\n",
    "3. You want to predict whether an employee has left the company or not (feature\n",
    "left)on the basis of the other attributes present in the dataset. To divide the two datasets (that one\n",
    "dataset (the original and the reduced one) so that 3⁄4 of the elements are contained in a new\n",
    "train\" dataset and 1⁄4 in the \"test\" dataset.\n",
    "Evaluate the accuracy obtained with the MultinomialNB model on both datasets\n",
    "(from sklearn.naive_bayes import MultinomialNB)\n",
    "4. The accuracy value obtained is _____________.\n",
    "What do you find out by analyzing the confusion matrix?\n",
    "5. If you use a Decision Tree based model what accuracy value do you get?\n",
    "Does it change anything in the confusion matrix?\n",
    "6. What accuracy value do you get with 5 Fold cross validation and the Decision Tree based model  and the Multinomial based model?\n",
    "Decision Tree based model ________________ and MultinomialNB based model\n",
    "________________\n",
    "7. Create a dataset balanced with respect to the \"left\" attribute, and see if it changes\n",
    "accuracy with 5 Fold cross validation and the Decision Tree based model\n",
    "________________ and the model based on MultinomialNB ________________\n",
    "8. Create a 1-of-V version of the matrix (indicator matrix) regarding the\n",
    "columns \"sales\" and \"salary\". This is a matrix in which each column is transformed into a number of columns equal to the cardinality.\n",
    "number of columns equal to the cardinality (the unique values) of the domain of the original column.\n",
    "original column. Each cell in the column takes on a value of 0 or 1 depending on whether the\n",
    "value initially contained by the attribute is equal to that represented by the\n",
    "column\n",
    "Calculate the accuracy using the previous methods. Does it get better or worse? This type of\n",
    "transformation is generally better or worse than the one performed in step 2?\n",
    "9. Group the values of the \"average_montly_hours\" attribute into 6 groups. Replace the original\n",
    "attribute's original value with a number from 1 to 6 indicating membership in the specific group.\n",
    "to the specific group. Evaluate the accuracy.\n",
    "10. Consider a new dataset obtained through an arbitrary variation of the previous one\n",
    "Consider a new dataset obtained through any variation of the previous one and analyze the accuracy obtained with a model based on Decision Tree.\n",
    "What value do you get? ________________"
   ]
  },
  {
   "cell_type": "code",
   "execution_count": 1,
   "metadata": {},
   "outputs": [],
   "source": [
    "import pandas as pd"
   ]
  },
  {
   "cell_type": "code",
   "execution_count": 2,
   "metadata": {},
   "outputs": [],
   "source": [
    "df = pd.read_csv('./data/HR_comma_sep_orig.csv')"
   ]
  },
  {
   "cell_type": "markdown",
   "metadata": {},
   "source": [
    "2. How many instances are contained in the dataset? _______ The dataset is complete (i.e. for\n",
    "(i.e. for each instance all attribute values are always specified - there are no missing values)?\n",
    "values\")? _______ Is the dataset balanced with respect to the class to be predicted?\n",
    "_________ Looking directly at the data, how did having had a promotion\n",
    "in the last 5 years affected the employee's choice to leave the company?"
   ]
  },
  {
   "cell_type": "code",
   "execution_count": 3,
   "metadata": {},
   "outputs": [
    {
     "data": {
      "text/plain": [
       "(14999, 10)"
      ]
     },
     "execution_count": 3,
     "metadata": {},
     "output_type": "execute_result"
    }
   ],
   "source": [
    "df.shape"
   ]
  },
  {
   "cell_type": "code",
   "execution_count": 4,
   "metadata": {},
   "outputs": [
    {
     "data": {
      "text/plain": [
       "satisfaction_level       False\n",
       "last_evaluation          False\n",
       "number_project           False\n",
       "average_montly_hours     False\n",
       "time_spend_company       False\n",
       "Work_accident            False\n",
       "left                     False\n",
       "promotion_last_5years    False\n",
       "sales                    False\n",
       "salary                   False\n",
       "dtype: bool"
      ]
     },
     "execution_count": 4,
     "metadata": {},
     "output_type": "execute_result"
    }
   ],
   "source": [
    "df.isna().any()"
   ]
  },
  {
   "cell_type": "code",
   "execution_count": 5,
   "metadata": {},
   "outputs": [
    {
     "data": {
      "text/plain": [
       "<AxesSubplot:>"
      ]
     },
     "execution_count": 5,
     "metadata": {},
     "output_type": "execute_result"
    }
   ],
   "source": [
    "df.satisfaction_level.hist()"
   ]
  },
  {
   "cell_type": "code",
   "execution_count": 6,
   "metadata": {},
   "outputs": [
    {
     "data": {
      "text/plain": [
       "left\n",
       "0    300\n",
       "1     19\n",
       "dtype: int64"
      ]
     },
     "execution_count": 6,
     "metadata": {},
     "output_type": "execute_result"
    }
   ],
   "source": [
    "df[df['promotion_last_5years'] == 1].groupby('left').size()"
   ]
  },
  {
   "cell_type": "markdown",
   "metadata": {},
   "source": [
    "If you look at the mean and median, do you see that employees working in the firm are generally satisfied? If you represent a histogram of employee satisfaction (use the parameter bins=100 in the function that makes the histogram) you will see that there is an initial block of employees not satisfied at all. Calculate the value of dissatisfaction of this block of employees ___ What do these employees have in common (other than a low level of satisfaction)?"
   ]
  },
  {
   "cell_type": "code",
   "execution_count": 7,
   "metadata": {},
   "outputs": [
    {
     "data": {
      "text/plain": [
       "Index(['satisfaction_level', 'last_evaluation', 'number_project',\n",
       "       'average_montly_hours', 'time_spend_company', 'Work_accident', 'left',\n",
       "       'promotion_last_5years', 'sales', 'salary'],\n",
       "      dtype='object')"
      ]
     },
     "execution_count": 7,
     "metadata": {},
     "output_type": "execute_result"
    }
   ],
   "source": [
    "df.columns"
   ]
  },
  {
   "cell_type": "code",
   "execution_count": 8,
   "metadata": {},
   "outputs": [
    {
     "data": {
      "text/plain": [
       "0.6128335222348156"
      ]
     },
     "execution_count": 8,
     "metadata": {},
     "output_type": "execute_result"
    }
   ],
   "source": [
    "df.satisfaction_level.mean()"
   ]
  },
  {
   "cell_type": "code",
   "execution_count": 9,
   "metadata": {},
   "outputs": [
    {
     "data": {
      "text/plain": [
       "0.64"
      ]
     },
     "execution_count": 9,
     "metadata": {},
     "output_type": "execute_result"
    }
   ],
   "source": [
    "df.satisfaction_level.median()"
   ]
  },
  {
   "cell_type": "code",
   "execution_count": 10,
   "metadata": {},
   "outputs": [
    {
     "data": {
      "text/plain": [
       "<AxesSubplot:>"
      ]
     },
     "execution_count": 10,
     "metadata": {},
     "output_type": "execute_result"
    },
    {
     "data": {
      "image/png": "[encoded data removed]",
      "text/plain": [
       "<Figure size 432x288 with 1 Axes>"
      ]
     },
     "metadata": {
      "needs_background": "light"
     },
     "output_type": "display_data"
    }
   ],
   "source": [
    "df.satisfaction_level.hist(bins=100)"
   ]
  },
  {
   "cell_type": "code",
   "execution_count": 11,
   "metadata": {},
   "outputs": [
    {
     "data": {
      "text/plain": [
       "0.09349999999999997"
      ]
     },
     "execution_count": 11,
     "metadata": {},
     "output_type": "execute_result"
    }
   ],
   "source": [
    "df.sort_values('satisfaction_level')[:300].satisfaction_level.mean()"
   ]
  },
  {
   "cell_type": "code",
   "execution_count": 12,
   "metadata": {},
   "outputs": [
    {
     "data": {
      "text/html": [
       "<div>\n",
       "<style scoped>\n",
       "    .dataframe tbody tr th:only-of-type {\n",
       "        vertical-align: middle;\n",
       "    }\n",
       "\n",
       "    .dataframe tbody tr th {\n",
       "        vertical-align: top;\n",
       "    }\n",
       "\n",
       "    .dataframe thead th {\n",
       "        text-align: right;\n",
       "    }\n",
       "</style>\n",
       "<table border=\"1\" class=\"dataframe\">\n",
       "  <thead>\n",
       "    <tr style=\"text-align: right;\">\n",
       "      <th></th>\n",
       "      <th>satisfaction_level</th>\n",
       "      <th>last_evaluation</th>\n",
       "      <th>number_project</th>\n",
       "      <th>average_montly_hours</th>\n",
       "      <th>time_spend_company</th>\n",
       "      <th>Work_accident</th>\n",
       "      <th>left</th>\n",
       "      <th>promotion_last_5years</th>\n",
       "    </tr>\n",
       "  </thead>\n",
       "  <tbody>\n",
       "    <tr>\n",
       "      <th>count</th>\n",
       "      <td>300.000000</td>\n",
       "      <td>300.000000</td>\n",
       "      <td>300.000000</td>\n",
       "      <td>300.000000</td>\n",
       "      <td>300.000000</td>\n",
       "      <td>300.000000</td>\n",
       "      <td>300.0</td>\n",
       "      <td>300.0</td>\n",
       "    </tr>\n",
       "    <tr>\n",
       "      <th>mean</th>\n",
       "      <td>0.093500</td>\n",
       "      <td>0.871100</td>\n",
       "      <td>6.166667</td>\n",
       "      <td>275.493333</td>\n",
       "      <td>4.103333</td>\n",
       "      <td>0.033333</td>\n",
       "      <td>1.0</td>\n",
       "      <td>0.0</td>\n",
       "    </tr>\n",
       "    <tr>\n",
       "      <th>std</th>\n",
       "      <td>0.004778</td>\n",
       "      <td>0.068347</td>\n",
       "      <td>0.588822</td>\n",
       "      <td>20.594751</td>\n",
       "      <td>0.373883</td>\n",
       "      <td>0.179805</td>\n",
       "      <td>0.0</td>\n",
       "      <td>0.0</td>\n",
       "    </tr>\n",
       "    <tr>\n",
       "      <th>min</th>\n",
       "      <td>0.090000</td>\n",
       "      <td>0.620000</td>\n",
       "      <td>3.000000</td>\n",
       "      <td>179.000000</td>\n",
       "      <td>2.000000</td>\n",
       "      <td>0.000000</td>\n",
       "      <td>1.0</td>\n",
       "      <td>0.0</td>\n",
       "    </tr>\n",
       "    <tr>\n",
       "      <th>25%</th>\n",
       "      <td>0.090000</td>\n",
       "      <td>0.820000</td>\n",
       "      <td>6.000000</td>\n",
       "      <td>258.000000</td>\n",
       "      <td>4.000000</td>\n",
       "      <td>0.000000</td>\n",
       "      <td>1.0</td>\n",
       "      <td>0.0</td>\n",
       "    </tr>\n",
       "    <tr>\n",
       "      <th>50%</th>\n",
       "      <td>0.090000</td>\n",
       "      <td>0.870000</td>\n",
       "      <td>6.000000</td>\n",
       "      <td>275.000000</td>\n",
       "      <td>4.000000</td>\n",
       "      <td>0.000000</td>\n",
       "      <td>1.0</td>\n",
       "      <td>0.0</td>\n",
       "    </tr>\n",
       "    <tr>\n",
       "      <th>75%</th>\n",
       "      <td>0.100000</td>\n",
       "      <td>0.930000</td>\n",
       "      <td>6.000000</td>\n",
       "      <td>292.000000</td>\n",
       "      <td>4.000000</td>\n",
       "      <td>0.000000</td>\n",
       "      <td>1.0</td>\n",
       "      <td>0.0</td>\n",
       "    </tr>\n",
       "    <tr>\n",
       "      <th>max</th>\n",
       "      <td>0.100000</td>\n",
       "      <td>0.980000</td>\n",
       "      <td>7.000000</td>\n",
       "      <td>310.000000</td>\n",
       "      <td>5.000000</td>\n",
       "      <td>1.000000</td>\n",
       "      <td>1.0</td>\n",
       "      <td>0.0</td>\n",
       "    </tr>\n",
       "  </tbody>\n",
       "</table>\n",
       "</div>"
      ],
      "text/plain": [
       "       satisfaction_level  last_evaluation  number_project  \\\n",
       "count          300.000000       300.000000      300.000000   \n",
       "mean             0.093500         0.871100        6.166667   \n",
       "std              0.004778         0.068347        0.588822   \n",
       "min              0.090000         0.620000        3.000000   \n",
       "25%              0.090000         0.820000        6.000000   \n",
       "50%              0.090000         0.870000        6.000000   \n",
       "75%              0.100000         0.930000        6.000000   \n",
       "max              0.100000         0.980000        7.000000   \n",
       "\n",
       "       average_montly_hours  time_spend_company  Work_accident   left  \\\n",
       "count            300.000000          300.000000     300.000000  300.0   \n",
       "mean             275.493333            4.103333       0.033333    1.0   \n",
       "std               20.594751            0.373883       0.179805    0.0   \n",
       "min              179.000000            2.000000       0.000000    1.0   \n",
       "25%              258.000000            4.000000       0.000000    1.0   \n",
       "50%              275.000000            4.000000       0.000000    1.0   \n",
       "75%              292.000000            4.000000       0.000000    1.0   \n",
       "max              310.000000            5.000000       1.000000    1.0   \n",
       "\n",
       "       promotion_last_5years  \n",
       "count                  300.0  \n",
       "mean                     0.0  \n",
       "std                      0.0  \n",
       "min                      0.0  \n",
       "25%                      0.0  \n",
       "50%                      0.0  \n",
       "75%                      0.0  \n",
       "max                      0.0  "
      ]
     },
     "execution_count": 12,
     "metadata": {},
     "output_type": "execute_result"
    }
   ],
   "source": [
    "df.sort_values('satisfaction_level')[:300].describe() # no promotions, many projects, lots of hours, little more time at comp. in common"
   ]
  },
  {
   "cell_type": "code",
   "execution_count": 13,
   "metadata": {},
   "outputs": [],
   "source": [
    "#df.sort_values('satisfaction_level')[300:].describe()"
   ]
  },
  {
   "cell_type": "markdown",
   "metadata": {},
   "source": [
    "Represent in a graph the salary of the dissatisfied employees described in the previous point previous point."
   ]
  },
  {
   "cell_type": "code",
   "execution_count": 14,
   "metadata": {},
   "outputs": [
    {
     "data": {
      "text/plain": [
       "<AxesSubplot:>"
      ]
     },
     "execution_count": 14,
     "metadata": {},
     "output_type": "execute_result"
    },
    {
     "data": {
      "image/png": "[encoded data removed]",
      "text/plain": [
       "<Figure size 432x288 with 1 Axes>"
      ]
     },
     "metadata": {
      "needs_background": "light"
     },
     "output_type": "display_data"
    }
   ],
   "source": [
    "df.sort_values('satisfaction_level')[:300].salary.hist()"
   ]
  },
  {
   "cell_type": "markdown",
   "metadata": {},
   "source": [
    "Analyze the industries (attribute \"sales\") in which the dissatisfied employees are placed. Is there an industry that is a greater source of discomfort? "
   ]
  },
  {
   "cell_type": "code",
   "execution_count": 15,
   "metadata": {},
   "outputs": [
    {
     "data": {
      "text/plain": [
       "sales\n",
       "IT             32\n",
       "RandD          10\n",
       "accounting     13\n",
       "hr             17\n",
       "management      7\n",
       "marketing      14\n",
       "product_mng    18\n",
       "sales          75\n",
       "support        40\n",
       "technical      74\n",
       "dtype: int64"
      ]
     },
     "execution_count": 15,
     "metadata": {},
     "output_type": "execute_result"
    }
   ],
   "source": [
    "df.sort_values('satisfaction_level')[:300].groupby('sales').size()"
   ]
  },
  {
   "cell_type": "markdown",
   "metadata": {},
   "source": [
    "## Part 2"
   ]
  },
  {
   "cell_type": "markdown",
   "metadata": {},
   "source": [
    "### Scikit-learn uses a numpy array to make its predictions. The elements of the numpy array must be of the same numeric data type. It is therefore necessary to transform the dataset to make it usable with scikit. Create a new dataset from the previous one and call it reduced in we consider only the numeric features."
   ]
  },
  {
   "cell_type": "code",
   "execution_count": 16,
   "metadata": {},
   "outputs": [
    {
     "name": "stdout",
     "output_type": "stream",
     "text": [
      "<class 'pandas.core.frame.DataFrame'>\n",
      "RangeIndex: 14999 entries, 0 to 14998\n",
      "Data columns (total 10 columns):\n",
      " #   Column                 Non-Null Count  Dtype  \n",
      "---  ------                 --------------  -----  \n",
      " 0   satisfaction_level     14999 non-null  float64\n",
      " 1   last_evaluation        14999 non-null  float64\n",
      " 2   number_project         14999 non-null  int64  \n",
      " 3   average_montly_hours   14999 non-null  int64  \n",
      " 4   time_spend_company     14999 non-null  int64  \n",
      " 5   Work_accident          14999 non-null  int64  \n",
      " 6   left                   14999 non-null  int64  \n",
      " 7   promotion_last_5years  14999 non-null  int64  \n",
      " 8   sales                  14999 non-null  object \n",
      " 9   salary                 14999 non-null  object \n",
      "dtypes: float64(2), int64(6), object(2)\n",
      "memory usage: 1.1+ MB\n"
     ]
    }
   ],
   "source": [
    "df.info()"
   ]
  },
  {
   "cell_type": "code",
   "execution_count": 17,
   "metadata": {},
   "outputs": [],
   "source": [
    "reduced = df.drop(['sales','salary'], axis=1)"
   ]
  },
  {
   "cell_type": "code",
   "execution_count": 18,
   "metadata": {},
   "outputs": [
    {
     "name": "stdout",
     "output_type": "stream",
     "text": [
      "<class 'pandas.core.frame.DataFrame'>\n",
      "RangeIndex: 14999 entries, 0 to 14998\n",
      "Data columns (total 8 columns):\n",
      " #   Column                 Non-Null Count  Dtype  \n",
      "---  ------                 --------------  -----  \n",
      " 0   satisfaction_level     14999 non-null  float64\n",
      " 1   last_evaluation        14999 non-null  float64\n",
      " 2   number_project         14999 non-null  int64  \n",
      " 3   average_montly_hours   14999 non-null  int64  \n",
      " 4   time_spend_company     14999 non-null  int64  \n",
      " 5   Work_accident          14999 non-null  int64  \n",
      " 6   left                   14999 non-null  int64  \n",
      " 7   promotion_last_5years  14999 non-null  int64  \n",
      "dtypes: float64(2), int64(6)\n",
      "memory usage: 937.6 KB\n"
     ]
    }
   ],
   "source": [
    "reduced.info()"
   ]
  },
  {
   "cell_type": "markdown",
   "metadata": {},
   "source": [
    "### In the original dataset, transform the values of non-numeric fields to numeric, using a transformation function."
   ]
  },
  {
   "cell_type": "code",
   "execution_count": 19,
   "metadata": {},
   "outputs": [],
   "source": [
    "new_sales = {'sales': 0, \n",
    "            'accounting':1, \n",
    "            'hr':2, \n",
    "            'technical':3, \n",
    "            'support':4, \n",
    "            'management':5,\n",
    "            'IT':6, \n",
    "            'product_mng':7, \n",
    "            'marketing':8, \n",
    "            'RandD':9}\n",
    "new_salary = {'low': 0,\n",
    "              'medium':1,\n",
    "              'high':2}\n",
    "df[\"sales\"]= df[\"sales\"].map(new_sales)\n",
    "df[\"salary\"]= df[\"salary\"].map(new_salary)"
   ]
  },
  {
   "cell_type": "markdown",
   "metadata": {},
   "source": [
    "### You want to predict whether an employee has left the company or not (feature left)on the basis of the other attributes present in the dataset. To divide the two datasets (that one dataset (the original and the reduced one) so that 3⁄4 of the elements are contained in a new train\" dataset and 1⁄4 in the \"test\" dataset. Evaluate the accuracy obtained with the MultinomialNB model on both datasets (from sklearn.naive_bayes import MultinomialNB)"
   ]
  },
  {
   "cell_type": "code",
   "execution_count": 20,
   "metadata": {},
   "outputs": [],
   "source": [
    "y = df.left\n",
    "X = df.loc[:, df.columns != 'left']"
   ]
  },
  {
   "cell_type": "code",
   "execution_count": 21,
   "metadata": {},
   "outputs": [],
   "source": [
    "y_red = y\n",
    "X_red = reduced.loc[:, reduced.columns != 'left']"
   ]
  },
  {
   "cell_type": "code",
   "execution_count": 22,
   "metadata": {},
   "outputs": [
    {
     "name": "stderr",
     "output_type": "stream",
     "text": [
      "/home/hannah/snap/jupyter/common/lib/python3.7/site-packages/joblib/_multiprocessing_helpers.py:45: UserWarning: [Errno 13] Permission denied.  joblib will operate in serial mode\n",
      "  warnings.warn('%s.  joblib will operate in serial mode' % (e,))\n"
     ]
    }
   ],
   "source": [
    "from sklearn.model_selection import train_test_split\n",
    "X_train, X_test, y_train, y_test = train_test_split(X, y, test_size=0.25, random_state=0)\n",
    "X_red_train, X_red_test, y_red_train, y_red_test = train_test_split(X_red, y_red, test_size=0.25, random_state=0)\n"
   ]
  },
  {
   "cell_type": "code",
   "execution_count": 23,
   "metadata": {},
   "outputs": [
    {
     "data": {
      "text/plain": [
       "0.776"
      ]
     },
     "execution_count": 23,
     "metadata": {},
     "output_type": "execute_result"
    }
   ],
   "source": [
    "from sklearn.naive_bayes import MultinomialNB\n",
    "from sklearn.metrics import accuracy_score\n",
    "\n",
    "clf = MultinomialNB()\n",
    "y_pred = clf.fit(X_train, y_train).predict(X_test)\n",
    "accuracy_score(y_test, y_pred)"
   ]
  },
  {
   "cell_type": "code",
   "execution_count": 24,
   "metadata": {},
   "outputs": [
    {
     "data": {
      "text/plain": [
       "0.7682666666666667"
      ]
     },
     "execution_count": 24,
     "metadata": {},
     "output_type": "execute_result"
    }
   ],
   "source": [
    "clf_red = MultinomialNB()\n",
    "y_red_pred = clf_red.fit(X_red_train, y_red_train).predict(X_red_test)\n",
    "accuracy_score(y_red_test, y_red_pred)"
   ]
  },
  {
   "cell_type": "markdown",
   "metadata": {},
   "source": [
    "### The accuracy value obtained is _. What do you find out by analyzing the confusion matrix?"
   ]
  },
  {
   "cell_type": "code",
   "execution_count": 25,
   "metadata": {},
   "outputs": [
    {
     "data": {
      "text/plain": [
       "array([[2852,   29],\n",
       "       [ 811,   58]])"
      ]
     },
     "execution_count": 25,
     "metadata": {},
     "output_type": "execute_result"
    }
   ],
   "source": [
    "from sklearn.metrics import confusion_matrix\n",
    "confusion_matrix(y_test, y_pred)"
   ]
  },
  {
   "cell_type": "code",
   "execution_count": 26,
   "metadata": {},
   "outputs": [
    {
     "data": {
      "text/plain": [
       "array([[2881,    0],\n",
       "       [ 869,    0]])"
      ]
     },
     "execution_count": 26,
     "metadata": {},
     "output_type": "execute_result"
    }
   ],
   "source": [
    "confusion_matrix(y_test, y_red_pred)"
   ]
  },
  {
   "cell_type": "markdown",
   "metadata": {},
   "source": [
    "### If you use a Decision Tree based model what accuracy value do you get? Does it change anything in the confusion matrix?"
   ]
  },
  {
   "cell_type": "code",
   "execution_count": 27,
   "metadata": {},
   "outputs": [
    {
     "data": {
      "text/plain": [
       "0.9781333333333333"
      ]
     },
     "execution_count": 27,
     "metadata": {},
     "output_type": "execute_result"
    }
   ],
   "source": [
    "from sklearn.tree import DecisionTreeClassifier # Import Decision Tree Classifier\n",
    "clf_dt = DecisionTreeClassifier()\n",
    "y_pred_dt = clf_dt.fit(X_train, y_train).predict(X_test)\n",
    "accuracy_score(y_test, y_pred_dt)"
   ]
  },
  {
   "cell_type": "code",
   "execution_count": 28,
   "metadata": {},
   "outputs": [
    {
     "data": {
      "text/plain": [
       "array([[2825,   56],\n",
       "       [  26,  843]])"
      ]
     },
     "execution_count": 28,
     "metadata": {},
     "output_type": "execute_result"
    }
   ],
   "source": [
    "confusion_matrix(y_test, y_pred_dt)"
   ]
  },
  {
   "cell_type": "code",
   "execution_count": 29,
   "metadata": {},
   "outputs": [
    {
     "data": {
      "text/plain": [
       "0.9808"
      ]
     },
     "execution_count": 29,
     "metadata": {},
     "output_type": "execute_result"
    }
   ],
   "source": [
    "clf_red_dt = DecisionTreeClassifier()\n",
    "y_red_pred_dt = clf_red_dt.fit(X_red_train, y_red_train).predict(X_red_test)\n",
    "accuracy_score(y_red_test, y_red_pred_dt)"
   ]
  },
  {
   "cell_type": "code",
   "execution_count": 30,
   "metadata": {},
   "outputs": [
    {
     "data": {
      "text/plain": [
       "array([[2834,   47],\n",
       "       [  25,  844]])"
      ]
     },
     "execution_count": 30,
     "metadata": {},
     "output_type": "execute_result"
    }
   ],
   "source": [
    "confusion_matrix(y_test, y_red_pred_dt)"
   ]
  },
  {
   "cell_type": "markdown",
   "metadata": {},
   "source": [
    "### What accuracy value do you get with 5 Fold cross validation and the Decision Tree based model and the Multinomial based model? Decision Tree based model ____ and MultinomialNB based model"
   ]
  },
  {
   "cell_type": "code",
   "execution_count": 31,
   "metadata": {},
   "outputs": [],
   "source": [
    "from sklearn.model_selection import cross_val_score\n",
    "\n",
    "cv_results_lr = cross_val_score(MultinomialNB(), X, y, cv=5, scoring=\"accuracy\")\n",
    "cv_results_dt = cross_val_score(DecisionTreeClassifier(), X, y, cv=5, scoring=\"accuracy\")\n",
    "cv_results_lr_red = cross_val_score(MultinomialNB(), X_red, y_red, cv=5, scoring=\"accuracy\")\n",
    "cv_results_dt_red = cross_val_score(DecisionTreeClassifier(), X_red, y_red, cv=5, scoring=\"accuracy\")"
   ]
  },
  {
   "cell_type": "code",
   "execution_count": 32,
   "metadata": {},
   "outputs": [
    {
     "name": "stdout",
     "output_type": "stream",
     "text": [
      "Cross Validation NB:  0.7624486606646661\n",
      "Cross Validation DT:  0.9763985773035456\n",
      "Cross Validation NB red:  0.7549818161609425\n",
      "Cross Validation DT red:  0.9746648660664666\n"
     ]
    }
   ],
   "source": [
    "print('Cross Validation NB: ', cv_results_lr.mean())\n",
    "print('Cross Validation DT: ', cv_results_dt.mean())\n",
    "print('Cross Validation NB red: ', cv_results_lr_red.mean())\n",
    "print('Cross Validation DT red: ', cv_results_dt_red.mean())"
   ]
  },
  {
   "cell_type": "markdown",
   "metadata": {},
   "source": [
    "### Create a dataset balanced with respect to the \"left\" attribute, and see if it changes accuracy with 5 Fold cross validation and the Decision Tree based model ____ and the model based on MultinomialNB ____"
   ]
  },
  {
   "cell_type": "code",
   "execution_count": 33,
   "metadata": {},
   "outputs": [],
   "source": [
    "g = df.groupby('left')\n",
    "new_df = g.apply(lambda x: x.sample(g.size().min())).reset_index(drop=True)"
   ]
  },
  {
   "cell_type": "code",
   "execution_count": 34,
   "metadata": {},
   "outputs": [],
   "source": [
    "g = reduced.groupby('left')\n",
    "new_reduced = g.apply(lambda x: x.sample(g.size().min())).reset_index(drop=True)"
   ]
  },
  {
   "cell_type": "code",
   "execution_count": 35,
   "metadata": {},
   "outputs": [
    {
     "data": {
      "text/plain": [
       "0    3571\n",
       "1    3571\n",
       "Name: left, dtype: int64"
      ]
     },
     "execution_count": 35,
     "metadata": {},
     "output_type": "execute_result"
    }
   ],
   "source": [
    "new_reduced.left.value_counts()"
   ]
  },
  {
   "cell_type": "code",
   "execution_count": 36,
   "metadata": {},
   "outputs": [],
   "source": [
    "y = new_df.left\n",
    "X = new_df.loc[:, new_df.columns != 'left']\n",
    "y_red = y\n",
    "X_red = new_reduced.loc[:, new_reduced.columns != 'left']\n",
    "X_train, X_test, y_train, y_test = train_test_split(X, y, test_size=0.25, random_state=0)\n",
    "X_red_train, X_red_test, y_red_train, y_red_test = train_test_split(X_red, y_red, test_size=0.25, random_state=0)"
   ]
  },
  {
   "cell_type": "code",
   "execution_count": 37,
   "metadata": {},
   "outputs": [],
   "source": [
    "cv_results_lr = cross_val_score(MultinomialNB(), X, y, cv=5, scoring=\"accuracy\")\n",
    "cv_results_dt = cross_val_score(DecisionTreeClassifier(), X, y, cv=5, scoring=\"accuracy\")\n",
    "cv_results_lr_red = cross_val_score(MultinomialNB(), X_red, y_red, cv=5, scoring=\"accuracy\")\n",
    "cv_results_dt_red = cross_val_score(DecisionTreeClassifier(), X_red, y_red, cv=5, scoring=\"accuracy\")"
   ]
  },
  {
   "cell_type": "code",
   "execution_count": 38,
   "metadata": {},
   "outputs": [
    {
     "name": "stdout",
     "output_type": "stream",
     "text": [
      "Cross Validation NB:  0.6454751809751192\n",
      "Cross Validation DT:  0.9630352070849334\n",
      "Cross Validation NB red:  0.7469881584544245\n",
      "Cross Validation DT red:  0.9620552069673216\n"
     ]
    }
   ],
   "source": [
    "print('Cross Validation NB: ', cv_results_lr.mean())\n",
    "print('Cross Validation DT: ', cv_results_dt.mean())\n",
    "print('Cross Validation NB red: ', cv_results_lr_red.mean())\n",
    "print('Cross Validation DT red: ', cv_results_dt_red.mean())"
   ]
  },
  {
   "cell_type": "markdown",
   "metadata": {},
   "source": [
    "### Create a 1-of-V version of the matrix (indicator matrix) regarding the columns \"sales\" and \"salary\". This is a matrix in which each column is transformed into a number of columns equal to the cardinality (the unique values) of the domain of the original column. Each cell in the column takes on a value of 0 or 1 depending on whether the value initially contained by the attribute is equal to that represented by the column Calculate the accuracy using the previous methods. Does it get better or worse? This type of transformation is generally better or worse than the one performed in step 2?"
   ]
  },
  {
   "cell_type": "code",
   "execution_count": 39,
   "metadata": {},
   "outputs": [],
   "source": [
    "df = pd.read_csv('./data/HR_comma_sep_orig.csv')\n",
    "sales = pd.get_dummies(df['sales'])\n",
    "salary = pd.get_dummies(df['salary'])\n",
    "\n",
    "df_dummy = df.drop(['sales', 'salary'],axis=1)\n",
    "df_dummy = pd.concat([df_dummy, sales, salary], axis=1)"
   ]
  },
  {
   "cell_type": "code",
   "execution_count": 40,
   "metadata": {},
   "outputs": [
    {
     "data": {
      "text/html": [
       "<div>\n",
       "<style scoped>\n",
       "    .dataframe tbody tr th:only-of-type {\n",
       "        vertical-align: middle;\n",
       "    }\n",
       "\n",
       "    .dataframe tbody tr th {\n",
       "        vertical-align: top;\n",
       "    }\n",
       "\n",
       "    .dataframe thead th {\n",
       "        text-align: right;\n",
       "    }\n",
       "</style>\n",
       "<table border=\"1\" class=\"dataframe\">\n",
       "  <thead>\n",
       "    <tr style=\"text-align: right;\">\n",
       "      <th></th>\n",
       "      <th>satisfaction_level</th>\n",
       "      <th>last_evaluation</th>\n",
       "      <th>number_project</th>\n",
       "      <th>average_montly_hours</th>\n",
       "      <th>time_spend_company</th>\n",
       "      <th>Work_accident</th>\n",
       "      <th>left</th>\n",
       "      <th>promotion_last_5years</th>\n",
       "      <th>IT</th>\n",
       "      <th>RandD</th>\n",
       "      <th>...</th>\n",
       "      <th>hr</th>\n",
       "      <th>management</th>\n",
       "      <th>marketing</th>\n",
       "      <th>product_mng</th>\n",
       "      <th>sales</th>\n",
       "      <th>support</th>\n",
       "      <th>technical</th>\n",
       "      <th>high</th>\n",
       "      <th>low</th>\n",
       "      <th>medium</th>\n",
       "    </tr>\n",
       "  </thead>\n",
       "  <tbody>\n",
       "    <tr>\n",
       "      <th>0</th>\n",
       "      <td>0.38</td>\n",
       "      <td>0.53</td>\n",
       "      <td>2</td>\n",
       "      <td>157</td>\n",
       "      <td>3</td>\n",
       "      <td>0</td>\n",
       "      <td>1</td>\n",
       "      <td>0</td>\n",
       "      <td>0</td>\n",
       "      <td>0</td>\n",
       "      <td>...</td>\n",
       "      <td>0</td>\n",
       "      <td>0</td>\n",
       "      <td>0</td>\n",
       "      <td>0</td>\n",
       "      <td>1</td>\n",
       "      <td>0</td>\n",
       "      <td>0</td>\n",
       "      <td>0</td>\n",
       "      <td>1</td>\n",
       "      <td>0</td>\n",
       "    </tr>\n",
       "    <tr>\n",
       "      <th>1</th>\n",
       "      <td>0.80</td>\n",
       "      <td>0.86</td>\n",
       "      <td>5</td>\n",
       "      <td>262</td>\n",
       "      <td>6</td>\n",
       "      <td>0</td>\n",
       "      <td>1</td>\n",
       "      <td>0</td>\n",
       "      <td>0</td>\n",
       "      <td>0</td>\n",
       "      <td>...</td>\n",
       "      <td>0</td>\n",
       "      <td>0</td>\n",
       "      <td>0</td>\n",
       "      <td>0</td>\n",
       "      <td>1</td>\n",
       "      <td>0</td>\n",
       "      <td>0</td>\n",
       "      <td>0</td>\n",
       "      <td>0</td>\n",
       "      <td>1</td>\n",
       "    </tr>\n",
       "    <tr>\n",
       "      <th>2</th>\n",
       "      <td>0.11</td>\n",
       "      <td>0.88</td>\n",
       "      <td>7</td>\n",
       "      <td>272</td>\n",
       "      <td>4</td>\n",
       "      <td>0</td>\n",
       "      <td>1</td>\n",
       "      <td>0</td>\n",
       "      <td>0</td>\n",
       "      <td>0</td>\n",
       "      <td>...</td>\n",
       "      <td>0</td>\n",
       "      <td>0</td>\n",
       "      <td>0</td>\n",
       "      <td>0</td>\n",
       "      <td>1</td>\n",
       "      <td>0</td>\n",
       "      <td>0</td>\n",
       "      <td>0</td>\n",
       "      <td>0</td>\n",
       "      <td>1</td>\n",
       "    </tr>\n",
       "    <tr>\n",
       "      <th>3</th>\n",
       "      <td>0.72</td>\n",
       "      <td>0.87</td>\n",
       "      <td>5</td>\n",
       "      <td>223</td>\n",
       "      <td>5</td>\n",
       "      <td>0</td>\n",
       "      <td>1</td>\n",
       "      <td>0</td>\n",
       "      <td>0</td>\n",
       "      <td>0</td>\n",
       "      <td>...</td>\n",
       "      <td>0</td>\n",
       "      <td>0</td>\n",
       "      <td>0</td>\n",
       "      <td>0</td>\n",
       "      <td>1</td>\n",
       "      <td>0</td>\n",
       "      <td>0</td>\n",
       "      <td>0</td>\n",
       "      <td>1</td>\n",
       "      <td>0</td>\n",
       "    </tr>\n",
       "    <tr>\n",
       "      <th>4</th>\n",
       "      <td>0.37</td>\n",
       "      <td>0.52</td>\n",
       "      <td>2</td>\n",
       "      <td>159</td>\n",
       "      <td>3</td>\n",
       "      <td>0</td>\n",
       "      <td>1</td>\n",
       "      <td>0</td>\n",
       "      <td>0</td>\n",
       "      <td>0</td>\n",
       "      <td>...</td>\n",
       "      <td>0</td>\n",
       "      <td>0</td>\n",
       "      <td>0</td>\n",
       "      <td>0</td>\n",
       "      <td>1</td>\n",
       "      <td>0</td>\n",
       "      <td>0</td>\n",
       "      <td>0</td>\n",
       "      <td>1</td>\n",
       "      <td>0</td>\n",
       "    </tr>\n",
       "    <tr>\n",
       "      <th>...</th>\n",
       "      <td>...</td>\n",
       "      <td>...</td>\n",
       "      <td>...</td>\n",
       "      <td>...</td>\n",
       "      <td>...</td>\n",
       "      <td>...</td>\n",
       "      <td>...</td>\n",
       "      <td>...</td>\n",
       "      <td>...</td>\n",
       "      <td>...</td>\n",
       "      <td>...</td>\n",
       "      <td>...</td>\n",
       "      <td>...</td>\n",
       "      <td>...</td>\n",
       "      <td>...</td>\n",
       "      <td>...</td>\n",
       "      <td>...</td>\n",
       "      <td>...</td>\n",
       "      <td>...</td>\n",
       "      <td>...</td>\n",
       "      <td>...</td>\n",
       "    </tr>\n",
       "    <tr>\n",
       "      <th>14994</th>\n",
       "      <td>0.40</td>\n",
       "      <td>0.57</td>\n",
       "      <td>2</td>\n",
       "      <td>151</td>\n",
       "      <td>3</td>\n",
       "      <td>0</td>\n",
       "      <td>1</td>\n",
       "      <td>0</td>\n",
       "      <td>0</td>\n",
       "      <td>0</td>\n",
       "      <td>...</td>\n",
       "      <td>0</td>\n",
       "      <td>0</td>\n",
       "      <td>0</td>\n",
       "      <td>0</td>\n",
       "      <td>0</td>\n",
       "      <td>1</td>\n",
       "      <td>0</td>\n",
       "      <td>0</td>\n",
       "      <td>1</td>\n",
       "      <td>0</td>\n",
       "    </tr>\n",
       "    <tr>\n",
       "      <th>14995</th>\n",
       "      <td>0.37</td>\n",
       "      <td>0.48</td>\n",
       "      <td>2</td>\n",
       "      <td>160</td>\n",
       "      <td>3</td>\n",
       "      <td>0</td>\n",
       "      <td>1</td>\n",
       "      <td>0</td>\n",
       "      <td>0</td>\n",
       "      <td>0</td>\n",
       "      <td>...</td>\n",
       "      <td>0</td>\n",
       "      <td>0</td>\n",
       "      <td>0</td>\n",
       "      <td>0</td>\n",
       "      <td>0</td>\n",
       "      <td>1</td>\n",
       "      <td>0</td>\n",
       "      <td>0</td>\n",
       "      <td>1</td>\n",
       "      <td>0</td>\n",
       "    </tr>\n",
       "    <tr>\n",
       "      <th>14996</th>\n",
       "      <td>0.37</td>\n",
       "      <td>0.53</td>\n",
       "      <td>2</td>\n",
       "      <td>143</td>\n",
       "      <td>3</td>\n",
       "      <td>0</td>\n",
       "      <td>1</td>\n",
       "      <td>0</td>\n",
       "      <td>0</td>\n",
       "      <td>0</td>\n",
       "      <td>...</td>\n",
       "      <td>0</td>\n",
       "      <td>0</td>\n",
       "      <td>0</td>\n",
       "      <td>0</td>\n",
       "      <td>0</td>\n",
       "      <td>1</td>\n",
       "      <td>0</td>\n",
       "      <td>0</td>\n",
       "      <td>1</td>\n",
       "      <td>0</td>\n",
       "    </tr>\n",
       "    <tr>\n",
       "      <th>14997</th>\n",
       "      <td>0.11</td>\n",
       "      <td>0.96</td>\n",
       "      <td>6</td>\n",
       "      <td>280</td>\n",
       "      <td>4</td>\n",
       "      <td>0</td>\n",
       "      <td>1</td>\n",
       "      <td>0</td>\n",
       "      <td>0</td>\n",
       "      <td>0</td>\n",
       "      <td>...</td>\n",
       "      <td>0</td>\n",
       "      <td>0</td>\n",
       "      <td>0</td>\n",
       "      <td>0</td>\n",
       "      <td>0</td>\n",
       "      <td>1</td>\n",
       "      <td>0</td>\n",
       "      <td>0</td>\n",
       "      <td>1</td>\n",
       "      <td>0</td>\n",
       "    </tr>\n",
       "    <tr>\n",
       "      <th>14998</th>\n",
       "      <td>0.37</td>\n",
       "      <td>0.52</td>\n",
       "      <td>2</td>\n",
       "      <td>158</td>\n",
       "      <td>3</td>\n",
       "      <td>0</td>\n",
       "      <td>1</td>\n",
       "      <td>0</td>\n",
       "      <td>0</td>\n",
       "      <td>0</td>\n",
       "      <td>...</td>\n",
       "      <td>0</td>\n",
       "      <td>0</td>\n",
       "      <td>0</td>\n",
       "      <td>0</td>\n",
       "      <td>0</td>\n",
       "      <td>1</td>\n",
       "      <td>0</td>\n",
       "      <td>0</td>\n",
       "      <td>1</td>\n",
       "      <td>0</td>\n",
       "    </tr>\n",
       "  </tbody>\n",
       "</table>\n",
       "<p>14999 rows × 21 columns</p>\n",
       "</div>"
      ],
      "text/plain": [
       "       satisfaction_level  last_evaluation  number_project  \\\n",
       "0                    0.38             0.53               2   \n",
       "1                    0.80             0.86               5   \n",
       "2                    0.11             0.88               7   \n",
       "3                    0.72             0.87               5   \n",
       "4                    0.37             0.52               2   \n",
       "...                   ...              ...             ...   \n",
       "14994                0.40             0.57               2   \n",
       "14995                0.37             0.48               2   \n",
       "14996                0.37             0.53               2   \n",
       "14997                0.11             0.96               6   \n",
       "14998                0.37             0.52               2   \n",
       "\n",
       "       average_montly_hours  time_spend_company  Work_accident  left  \\\n",
       "0                       157                   3              0     1   \n",
       "1                       262                   6              0     1   \n",
       "2                       272                   4              0     1   \n",
       "3                       223                   5              0     1   \n",
       "4                       159                   3              0     1   \n",
       "...                     ...                 ...            ...   ...   \n",
       "14994                   151                   3              0     1   \n",
       "14995                   160                   3              0     1   \n",
       "14996                   143                   3              0     1   \n",
       "14997                   280                   4              0     1   \n",
       "14998                   158                   3              0     1   \n",
       "\n",
       "       promotion_last_5years  IT  RandD  ...  hr  management  marketing  \\\n",
       "0                          0   0      0  ...   0           0          0   \n",
       "1                          0   0      0  ...   0           0          0   \n",
       "2                          0   0      0  ...   0           0          0   \n",
       "3                          0   0      0  ...   0           0          0   \n",
       "4                          0   0      0  ...   0           0          0   \n",
       "...                      ...  ..    ...  ...  ..         ...        ...   \n",
       "14994                      0   0      0  ...   0           0          0   \n",
       "14995                      0   0      0  ...   0           0          0   \n",
       "14996                      0   0      0  ...   0           0          0   \n",
       "14997                      0   0      0  ...   0           0          0   \n",
       "14998                      0   0      0  ...   0           0          0   \n",
       "\n",
       "       product_mng  sales  support  technical  high  low  medium  \n",
       "0                0      1        0          0     0    1       0  \n",
       "1                0      1        0          0     0    0       1  \n",
       "2                0      1        0          0     0    0       1  \n",
       "3                0      1        0          0     0    1       0  \n",
       "4                0      1        0          0     0    1       0  \n",
       "...            ...    ...      ...        ...   ...  ...     ...  \n",
       "14994            0      0        1          0     0    1       0  \n",
       "14995            0      0        1          0     0    1       0  \n",
       "14996            0      0        1          0     0    1       0  \n",
       "14997            0      0        1          0     0    1       0  \n",
       "14998            0      0        1          0     0    1       0  \n",
       "\n",
       "[14999 rows x 21 columns]"
      ]
     },
     "execution_count": 40,
     "metadata": {},
     "output_type": "execute_result"
    }
   ],
   "source": [
    "df_dummy"
   ]
  },
  {
   "cell_type": "code",
   "execution_count": 41,
   "metadata": {},
   "outputs": [],
   "source": [
    "y = df_dummy.left\n",
    "X = df_dummy.loc[:, df_dummy.columns != 'left']\n",
    "X_train, X_test, y_train, y_test = train_test_split(X, y, test_size=0.25, random_state=0)"
   ]
  },
  {
   "cell_type": "code",
   "execution_count": 42,
   "metadata": {},
   "outputs": [],
   "source": [
    "cv_results_lr = cross_val_score(MultinomialNB(), X, y, cv=5, scoring=\"accuracy\")\n",
    "cv_results_dt = cross_val_score(DecisionTreeClassifier(), X, y, cv=5, scoring=\"accuracy\")"
   ]
  },
  {
   "cell_type": "code",
   "execution_count": 43,
   "metadata": {},
   "outputs": [
    {
     "name": "stdout",
     "output_type": "stream",
     "text": [
      "Cross Validation NB:  0.757115838612871\n",
      "Cross Validation DT:  0.9747316883405579\n"
     ]
    }
   ],
   "source": [
    "print('Cross Validation NB: ', cv_results_lr.mean())\n",
    "print('Cross Validation DT: ', cv_results_dt.mean())"
   ]
  },
  {
   "cell_type": "markdown",
   "metadata": {},
   "source": [
    "### Group the values of the \"average_montly_hours\" attribute into 6 groups. Replace the original attribute's original value with a number from 1 to 6 indicating membership in the specific group. to the specific group. Evaluate the accuracy."
   ]
  },
  {
   "cell_type": "code",
   "execution_count": 44,
   "metadata": {},
   "outputs": [
    {
     "data": {
      "text/plain": [
       "Index(['satisfaction_level', 'last_evaluation', 'number_project',\n",
       "       'average_montly_hours', 'time_spend_company', 'Work_accident', 'left',\n",
       "       'promotion_last_5years', 'sales', 'salary'],\n",
       "      dtype='object')"
      ]
     },
     "execution_count": 44,
     "metadata": {},
     "output_type": "execute_result"
    }
   ],
   "source": [
    "df.columns"
   ]
  },
  {
   "cell_type": "code",
   "execution_count": 45,
   "metadata": {},
   "outputs": [],
   "source": [
    "df_dummy['average_montly_hours'] = pd.cut(df_dummy['average_montly_hours'], bins=6, labels=[1,2,3,4,5,6])"
   ]
  },
  {
   "cell_type": "code",
   "execution_count": 46,
   "metadata": {},
   "outputs": [
    {
     "name": "stdout",
     "output_type": "stream",
     "text": [
      "Cross Validation NB:  0.7575826831165944\n",
      "Cross Validation DT:  0.9719314660442369\n"
     ]
    }
   ],
   "source": [
    "y = df_dummy.left\n",
    "X = df_dummy.loc[:, df_dummy.columns != 'left']\n",
    "X_train, X_test, y_train, y_test = train_test_split(X, y, test_size=0.25, random_state=0)\n",
    "cv_results_lr = cross_val_score(MultinomialNB(), X, y, cv=5, scoring=\"accuracy\")\n",
    "cv_results_dt = cross_val_score(DecisionTreeClassifier(), X, y, cv=5, scoring=\"accuracy\")\n",
    "print('Cross Validation NB: ', cv_results_lr.mean())\n",
    "print('Cross Validation DT: ', cv_results_dt.mean())"
   ]
  },
  {
   "cell_type": "markdown",
   "metadata": {},
   "source": [
    "### Consider a new dataset obtained through any variation of the previous one and analyze the accuracy obtained with a model based on Decision Tree. What value do you get? ____"
   ]
  },
  {
   "cell_type": "code",
   "execution_count": 47,
   "metadata": {},
   "outputs": [],
   "source": [
    "bs_df = df_dummy.drop(['last_evaluation'], axis= 1)"
   ]
  },
  {
   "cell_type": "code",
   "execution_count": 48,
   "metadata": {},
   "outputs": [
    {
     "data": {
      "text/plain": [
       "0.9762666666666666"
      ]
     },
     "execution_count": 48,
     "metadata": {},
     "output_type": "execute_result"
    }
   ],
   "source": [
    "clf_dummy = DecisionTreeClassifier()\n",
    "y_pred_dummy = clf_dummy.fit(X_train, y_train).predict(X_test)\n",
    "accuracy_score(y_test, y_pred_dummy)"
   ]
  },
  {
   "cell_type": "code",
   "execution_count": 50,
   "metadata": {},
   "outputs": [
    {
     "data": {
      "text/plain": [
       "0.9712"
      ]
     },
     "execution_count": 50,
     "metadata": {},
     "output_type": "execute_result"
    }
   ],
   "source": [
    "y = bs_df.left\n",
    "X = bs_df.loc[:, bs_df.columns != 'left']\n",
    "X_train, X_test, y_train, y_test = train_test_split(X, y, test_size=0.25, random_state=0)\n",
    "clf_bs = DecisionTreeClassifier()\n",
    "y_pred_bs = clf_bs.fit(X_train, y_train).predict(X_test)\n",
    "accuracy_score(y_test, y_pred_bs)"
   ]
  },
  {
   "cell_type": "code",
   "execution_count": null,
   "metadata": {},
   "outputs": [],
   "source": []
  }
 ],
 "metadata": {
  "kernelspec": {
   "display_name": "Python 3",
   "language": "python",
   "name": "python3"
  },
  "language_info": {
   "codemirror_mode": {
    "name": "ipython",
    "version": 3
   },
   "file_extension": ".py",
   "mimetype": "text/x-python",
   "name": "python",
   "nbconvert_exporter": "python",
   "pygments_lexer": "ipython3",
   "version": "3.7.3"
  }
 },
 "nbformat": 4,
 "nbformat_minor": 2
}
